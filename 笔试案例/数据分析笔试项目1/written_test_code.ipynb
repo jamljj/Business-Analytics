{
 "cells": [
  {
   "cell_type": "code",
   "execution_count": 1,
   "id": "0ee3c26b-7ec8-4903-ad76-1511b5a269af",
   "metadata": {},
   "outputs": [
    {
     "name": "stdout",
     "output_type": "stream",
     "text": [
      "D:\\桌面文件\\实习\\量子数能-数据分析实习笔试\n"
     ]
    }
   ],
   "source": [
    "%cd D:\\桌面文件\\实习\\量子数能-数据分析实习笔试"
   ]
  },
  {
   "cell_type": "code",
   "execution_count": 2,
   "id": "a77976a6-79aa-472b-ad40-bad409470208",
   "metadata": {},
   "outputs": [
    {
     "data": {
      "text/plain": [
       "'D:\\\\桌面文件\\\\实习\\\\量子数能-数据分析实习笔试'"
      ]
     },
     "execution_count": 2,
     "metadata": {},
     "output_type": "execute_result"
    }
   ],
   "source": [
    "%pwd"
   ]
  },
  {
   "cell_type": "code",
   "execution_count": 3,
   "id": "58ba93e1-b4c9-4db0-bce4-fb82fdf9aa1b",
   "metadata": {},
   "outputs": [],
   "source": [
    "import pandas as pd\n",
    "import numpy as np"
   ]
  },
  {
   "cell_type": "code",
   "execution_count": 4,
   "id": "b87b05e1-6f7e-45e5-804f-c6582965e2e5",
   "metadata": {},
   "outputs": [],
   "source": [
    "df = pd.read_excel('量子数能-数据分析实习笔试_dataset.xlsx',engine=\"openpyxl\")"
   ]
  },
  {
   "cell_type": "code",
   "execution_count": 5,
   "id": "26299b90-2f48-4c90-a3ce-66cb77deec6f",
   "metadata": {},
   "outputs": [
    {
     "data": {
      "text/plain": [
       "Index(['customer_id', 'is_pass', 'is_loan', 'apply_dt', 'disbr_dt',\n",
       "       'is_overdue', 'age', 'gender_v', 'education_v', 'marriage_v',\n",
       "       'live_state', 'live_county', 'residence_type_v', 'employ_stat_v',\n",
       "       'occupation_v', 'mon_salary_v', 'work_state', 'work_county',\n",
       "       'system_version', 'cont1_rel_v', 'cont2_rel_v', 'cont_list_no',\n",
       "       'ap_pd24h', 'ap_pd3d', 'ap_pd30d', 'ap_long3d', 'ap_long30d',\n",
       "       'ap_long90d', 'ap_al', 'ap_pdal', 'ap_longal', 'ap_dd_1lo',\n",
       "       'ap_dd_lalo', 'ap_dd_1lo_1ap', 'ap_loanal', 'cd_score', 'cd_open_acct',\n",
       "       'cd_ovdu_acct', 'cd_ovdu_amt', 'cd_ovdu_tms', 'cd_max_ovdudys',\n",
       "       'cd_tot_bal', 'cd_enq_tot30d', 'cd_enq_tot60d', 'cd_enq_org30d',\n",
       "       'cd_enq_org60d'],\n",
       "      dtype='object')"
      ]
     },
     "execution_count": 5,
     "metadata": {},
     "output_type": "execute_result"
    }
   ],
   "source": [
    "df.columns"
   ]
  },
  {
   "cell_type": "code",
   "execution_count": 6,
   "id": "c5f3d913-f317-4b8e-868c-e14759ac43a8",
   "metadata": {},
   "outputs": [
    {
     "data": {
      "text/plain": [
       "(34491, 46)"
      ]
     },
     "execution_count": 6,
     "metadata": {},
     "output_type": "execute_result"
    }
   ],
   "source": [
    "df.shape"
   ]
  },
  {
   "cell_type": "code",
   "execution_count": 7,
   "id": "af857001-f002-4c1d-acbd-dee5415b9213",
   "metadata": {
    "scrolled": true
   },
   "outputs": [
    {
     "data": {
      "text/html": [
       "<div>\n",
       "<style scoped>\n",
       "    .dataframe tbody tr th:only-of-type {\n",
       "        vertical-align: middle;\n",
       "    }\n",
       "\n",
       "    .dataframe tbody tr th {\n",
       "        vertical-align: top;\n",
       "    }\n",
       "\n",
       "    .dataframe thead th {\n",
       "        text-align: right;\n",
       "    }\n",
       "</style>\n",
       "<table border=\"1\" class=\"dataframe\">\n",
       "  <thead>\n",
       "    <tr style=\"text-align: right;\">\n",
       "      <th></th>\n",
       "      <th>customer_id</th>\n",
       "      <th>is_pass</th>\n",
       "      <th>is_loan</th>\n",
       "      <th>apply_dt</th>\n",
       "      <th>disbr_dt</th>\n",
       "      <th>is_overdue</th>\n",
       "      <th>age</th>\n",
       "      <th>gender_v</th>\n",
       "      <th>education_v</th>\n",
       "      <th>marriage_v</th>\n",
       "      <th>...</th>\n",
       "      <th>cd_open_acct</th>\n",
       "      <th>cd_ovdu_acct</th>\n",
       "      <th>cd_ovdu_amt</th>\n",
       "      <th>cd_ovdu_tms</th>\n",
       "      <th>cd_max_ovdudys</th>\n",
       "      <th>cd_tot_bal</th>\n",
       "      <th>cd_enq_tot30d</th>\n",
       "      <th>cd_enq_tot60d</th>\n",
       "      <th>cd_enq_org30d</th>\n",
       "      <th>cd_enq_org60d</th>\n",
       "    </tr>\n",
       "  </thead>\n",
       "  <tbody>\n",
       "    <tr>\n",
       "      <th>5150</th>\n",
       "      <td>L1022001087903185576090730496</td>\n",
       "      <td>1</td>\n",
       "      <td>1</td>\n",
       "      <td>18/1/2018</td>\n",
       "      <td>21/1/2018</td>\n",
       "      <td>0.0</td>\n",
       "      <td>31.0</td>\n",
       "      <td>Male</td>\n",
       "      <td>12th</td>\n",
       "      <td>Married</td>\n",
       "      <td>...</td>\n",
       "      <td>0.0</td>\n",
       "      <td>0.0</td>\n",
       "      <td>0.0</td>\n",
       "      <td>1.0</td>\n",
       "      <td>1.0</td>\n",
       "      <td>0.0</td>\n",
       "      <td>2.0</td>\n",
       "      <td>3.0</td>\n",
       "      <td>1.0</td>\n",
       "      <td>1.0</td>\n",
       "    </tr>\n",
       "    <tr>\n",
       "      <th>32425</th>\n",
       "      <td>L1022001237908627611048411136</td>\n",
       "      <td>1</td>\n",
       "      <td>1</td>\n",
       "      <td>1/1/2018</td>\n",
       "      <td>7/1/2018</td>\n",
       "      <td>0.0</td>\n",
       "      <td>25.0</td>\n",
       "      <td>Male</td>\n",
       "      <td>10th</td>\n",
       "      <td>Single</td>\n",
       "      <td>...</td>\n",
       "      <td>1.0</td>\n",
       "      <td>0.0</td>\n",
       "      <td>0.0</td>\n",
       "      <td>0.0</td>\n",
       "      <td>-99.0</td>\n",
       "      <td>12590.0</td>\n",
       "      <td>0.0</td>\n",
       "      <td>1.0</td>\n",
       "      <td>0.0</td>\n",
       "      <td>1.0</td>\n",
       "    </tr>\n",
       "    <tr>\n",
       "      <th>12692</th>\n",
       "      <td>L1022001197907142129912184832</td>\n",
       "      <td>0</td>\n",
       "      <td>0</td>\n",
       "      <td>25/1/2018</td>\n",
       "      <td>NaN</td>\n",
       "      <td>NaN</td>\n",
       "      <td>32.0</td>\n",
       "      <td>Male</td>\n",
       "      <td>12th</td>\n",
       "      <td>Married</td>\n",
       "      <td>...</td>\n",
       "      <td>6.0</td>\n",
       "      <td>0.0</td>\n",
       "      <td>0.0</td>\n",
       "      <td>0.0</td>\n",
       "      <td>-99.0</td>\n",
       "      <td>254908.0</td>\n",
       "      <td>0.0</td>\n",
       "      <td>0.0</td>\n",
       "      <td>0.0</td>\n",
       "      <td>0.0</td>\n",
       "    </tr>\n",
       "    <tr>\n",
       "      <th>24765</th>\n",
       "      <td>L1022001197907148242560811008</td>\n",
       "      <td>1</td>\n",
       "      <td>1</td>\n",
       "      <td>24/1/2018</td>\n",
       "      <td>27/1/2018</td>\n",
       "      <td>0.0</td>\n",
       "      <td>29.0</td>\n",
       "      <td>Male</td>\n",
       "      <td>10th</td>\n",
       "      <td>Married</td>\n",
       "      <td>...</td>\n",
       "      <td>8.0</td>\n",
       "      <td>1.0</td>\n",
       "      <td>11.0</td>\n",
       "      <td>4.0</td>\n",
       "      <td>30.0</td>\n",
       "      <td>158172.0</td>\n",
       "      <td>3.0</td>\n",
       "      <td>7.0</td>\n",
       "      <td>1.0</td>\n",
       "      <td>3.0</td>\n",
       "    </tr>\n",
       "    <tr>\n",
       "      <th>16650</th>\n",
       "      <td>L1022001247908943855626682368</td>\n",
       "      <td>0</td>\n",
       "      <td>0</td>\n",
       "      <td>21/1/2018</td>\n",
       "      <td>NaN</td>\n",
       "      <td>NaN</td>\n",
       "      <td>38.0</td>\n",
       "      <td>Male</td>\n",
       "      <td>Graduation/Diploma</td>\n",
       "      <td>Married</td>\n",
       "      <td>...</td>\n",
       "      <td>NaN</td>\n",
       "      <td>NaN</td>\n",
       "      <td>NaN</td>\n",
       "      <td>NaN</td>\n",
       "      <td>NaN</td>\n",
       "      <td>NaN</td>\n",
       "      <td>NaN</td>\n",
       "      <td>NaN</td>\n",
       "      <td>NaN</td>\n",
       "      <td>NaN</td>\n",
       "    </tr>\n",
       "    <tr>\n",
       "      <th>6077</th>\n",
       "      <td>L1022001267909687353552338944</td>\n",
       "      <td>0</td>\n",
       "      <td>0</td>\n",
       "      <td>25/1/2018</td>\n",
       "      <td>NaN</td>\n",
       "      <td>NaN</td>\n",
       "      <td>36.0</td>\n",
       "      <td>Male</td>\n",
       "      <td>Masters/Post-Graduation</td>\n",
       "      <td>Married</td>\n",
       "      <td>...</td>\n",
       "      <td>9.0</td>\n",
       "      <td>3.0</td>\n",
       "      <td>29556.0</td>\n",
       "      <td>5.0</td>\n",
       "      <td>1.0</td>\n",
       "      <td>2139416.0</td>\n",
       "      <td>0.0</td>\n",
       "      <td>0.0</td>\n",
       "      <td>0.0</td>\n",
       "      <td>0.0</td>\n",
       "    </tr>\n",
       "    <tr>\n",
       "      <th>11339</th>\n",
       "      <td>L1022001317911512483236610048</td>\n",
       "      <td>0</td>\n",
       "      <td>0</td>\n",
       "      <td>20/1/2018</td>\n",
       "      <td>NaN</td>\n",
       "      <td>NaN</td>\n",
       "      <td>26.0</td>\n",
       "      <td>Male</td>\n",
       "      <td>Graduation/Diploma</td>\n",
       "      <td>Single</td>\n",
       "      <td>...</td>\n",
       "      <td>2.0</td>\n",
       "      <td>0.0</td>\n",
       "      <td>0.0</td>\n",
       "      <td>0.0</td>\n",
       "      <td>-99.0</td>\n",
       "      <td>13629.0</td>\n",
       "      <td>0.0</td>\n",
       "      <td>0.0</td>\n",
       "      <td>0.0</td>\n",
       "      <td>0.0</td>\n",
       "    </tr>\n",
       "    <tr>\n",
       "      <th>17390</th>\n",
       "      <td>L1022001087903168534558081024</td>\n",
       "      <td>0</td>\n",
       "      <td>0</td>\n",
       "      <td>13/1/2018</td>\n",
       "      <td>NaN</td>\n",
       "      <td>NaN</td>\n",
       "      <td>31.0</td>\n",
       "      <td>Male</td>\n",
       "      <td>10th</td>\n",
       "      <td>Single</td>\n",
       "      <td>...</td>\n",
       "      <td>-99.0</td>\n",
       "      <td>-99.0</td>\n",
       "      <td>-99.0</td>\n",
       "      <td>-99.0</td>\n",
       "      <td>-99.0</td>\n",
       "      <td>-99.0</td>\n",
       "      <td>0.0</td>\n",
       "      <td>0.0</td>\n",
       "      <td>0.0</td>\n",
       "      <td>0.0</td>\n",
       "    </tr>\n",
       "    <tr>\n",
       "      <th>14633</th>\n",
       "      <td>L1022001057902022556282060800</td>\n",
       "      <td>0</td>\n",
       "      <td>0</td>\n",
       "      <td>23/1/2018</td>\n",
       "      <td>NaN</td>\n",
       "      <td>NaN</td>\n",
       "      <td>19.0</td>\n",
       "      <td>Male</td>\n",
       "      <td>10th</td>\n",
       "      <td>Single</td>\n",
       "      <td>...</td>\n",
       "      <td>NaN</td>\n",
       "      <td>NaN</td>\n",
       "      <td>NaN</td>\n",
       "      <td>NaN</td>\n",
       "      <td>NaN</td>\n",
       "      <td>NaN</td>\n",
       "      <td>NaN</td>\n",
       "      <td>NaN</td>\n",
       "      <td>NaN</td>\n",
       "      <td>NaN</td>\n",
       "    </tr>\n",
       "    <tr>\n",
       "      <th>13413</th>\n",
       "      <td>L1022001147905373141745074176</td>\n",
       "      <td>0</td>\n",
       "      <td>0</td>\n",
       "      <td>19/1/2018</td>\n",
       "      <td>NaN</td>\n",
       "      <td>NaN</td>\n",
       "      <td>18.0</td>\n",
       "      <td>Male</td>\n",
       "      <td>Masters/Post-Graduation</td>\n",
       "      <td>Married</td>\n",
       "      <td>...</td>\n",
       "      <td>NaN</td>\n",
       "      <td>NaN</td>\n",
       "      <td>NaN</td>\n",
       "      <td>NaN</td>\n",
       "      <td>NaN</td>\n",
       "      <td>NaN</td>\n",
       "      <td>NaN</td>\n",
       "      <td>NaN</td>\n",
       "      <td>NaN</td>\n",
       "      <td>NaN</td>\n",
       "    </tr>\n",
       "  </tbody>\n",
       "</table>\n",
       "<p>10 rows × 46 columns</p>\n",
       "</div>"
      ],
      "text/plain": [
       "                         customer_id  is_pass  is_loan   apply_dt   disbr_dt  \\\n",
       "5150   L1022001087903185576090730496        1        1  18/1/2018  21/1/2018   \n",
       "32425  L1022001237908627611048411136        1        1   1/1/2018   7/1/2018   \n",
       "12692  L1022001197907142129912184832        0        0  25/1/2018        NaN   \n",
       "24765  L1022001197907148242560811008        1        1  24/1/2018  27/1/2018   \n",
       "16650  L1022001247908943855626682368        0        0  21/1/2018        NaN   \n",
       "6077   L1022001267909687353552338944        0        0  25/1/2018        NaN   \n",
       "11339  L1022001317911512483236610048        0        0  20/1/2018        NaN   \n",
       "17390  L1022001087903168534558081024        0        0  13/1/2018        NaN   \n",
       "14633  L1022001057902022556282060800        0        0  23/1/2018        NaN   \n",
       "13413  L1022001147905373141745074176        0        0  19/1/2018        NaN   \n",
       "\n",
       "       is_overdue   age gender_v              education_v marriage_v  ...  \\\n",
       "5150          0.0  31.0     Male                     12th    Married  ...   \n",
       "32425         0.0  25.0     Male                     10th     Single  ...   \n",
       "12692         NaN  32.0     Male                     12th    Married  ...   \n",
       "24765         0.0  29.0     Male                     10th    Married  ...   \n",
       "16650         NaN  38.0     Male       Graduation/Diploma    Married  ...   \n",
       "6077          NaN  36.0     Male  Masters/Post-Graduation    Married  ...   \n",
       "11339         NaN  26.0     Male       Graduation/Diploma     Single  ...   \n",
       "17390         NaN  31.0     Male                     10th     Single  ...   \n",
       "14633         NaN  19.0     Male                     10th     Single  ...   \n",
       "13413         NaN  18.0     Male  Masters/Post-Graduation    Married  ...   \n",
       "\n",
       "       cd_open_acct  cd_ovdu_acct cd_ovdu_amt cd_ovdu_tms cd_max_ovdudys  \\\n",
       "5150            0.0           0.0         0.0         1.0            1.0   \n",
       "32425           1.0           0.0         0.0         0.0          -99.0   \n",
       "12692           6.0           0.0         0.0         0.0          -99.0   \n",
       "24765           8.0           1.0        11.0         4.0           30.0   \n",
       "16650           NaN           NaN         NaN         NaN            NaN   \n",
       "6077            9.0           3.0     29556.0         5.0            1.0   \n",
       "11339           2.0           0.0         0.0         0.0          -99.0   \n",
       "17390         -99.0         -99.0       -99.0       -99.0          -99.0   \n",
       "14633           NaN           NaN         NaN         NaN            NaN   \n",
       "13413           NaN           NaN         NaN         NaN            NaN   \n",
       "\n",
       "      cd_tot_bal  cd_enq_tot30d  cd_enq_tot60d cd_enq_org30d cd_enq_org60d  \n",
       "5150         0.0            2.0            3.0           1.0           1.0  \n",
       "32425    12590.0            0.0            1.0           0.0           1.0  \n",
       "12692   254908.0            0.0            0.0           0.0           0.0  \n",
       "24765   158172.0            3.0            7.0           1.0           3.0  \n",
       "16650        NaN            NaN            NaN           NaN           NaN  \n",
       "6077   2139416.0            0.0            0.0           0.0           0.0  \n",
       "11339    13629.0            0.0            0.0           0.0           0.0  \n",
       "17390      -99.0            0.0            0.0           0.0           0.0  \n",
       "14633        NaN            NaN            NaN           NaN           NaN  \n",
       "13413        NaN            NaN            NaN           NaN           NaN  \n",
       "\n",
       "[10 rows x 46 columns]"
      ]
     },
     "execution_count": 7,
     "metadata": {},
     "output_type": "execute_result"
    }
   ],
   "source": [
    "df.sample(10)"
   ]
  },
  {
   "cell_type": "code",
   "execution_count": 8,
   "id": "af3cf1e4-111c-4c7f-9a18-13c48aa5c49c",
   "metadata": {
    "scrolled": true
   },
   "outputs": [
    {
     "data": {
      "text/plain": [
       "customer_id             0\n",
       "is_pass                 0\n",
       "is_loan                 0\n",
       "apply_dt                0\n",
       "disbr_dt            28049\n",
       "is_overdue          28049\n",
       "age                    24\n",
       "gender_v                0\n",
       "education_v             0\n",
       "marriage_v              0\n",
       "live_state              0\n",
       "live_county             0\n",
       "residence_type_v        0\n",
       "employ_stat_v           0\n",
       "occupation_v            1\n",
       "mon_salary_v            0\n",
       "work_state              0\n",
       "work_county             0\n",
       "system_version         42\n",
       "cont1_rel_v             0\n",
       "cont2_rel_v             0\n",
       "cont_list_no           24\n",
       "ap_pd24h               24\n",
       "ap_pd3d                24\n",
       "ap_pd30d               24\n",
       "ap_long3d              24\n",
       "ap_long30d             24\n",
       "ap_long90d             24\n",
       "ap_al                9600\n",
       "ap_pdal              9600\n",
       "ap_longal            9600\n",
       "ap_dd_1lo            9600\n",
       "ap_dd_lalo           9600\n",
       "ap_dd_1lo_1ap        9600\n",
       "ap_loanal            9600\n",
       "cd_score             8974\n",
       "cd_open_acct         8974\n",
       "cd_ovdu_acct         8974\n",
       "cd_ovdu_amt          8974\n",
       "cd_ovdu_tms          8974\n",
       "cd_max_ovdudys       8974\n",
       "cd_tot_bal           8974\n",
       "cd_enq_tot30d        8974\n",
       "cd_enq_tot60d        8974\n",
       "cd_enq_org30d        8974\n",
       "cd_enq_org60d        8974\n",
       "dtype: int64"
      ]
     },
     "execution_count": 8,
     "metadata": {},
     "output_type": "execute_result"
    }
   ],
   "source": [
    "df.isnull().sum()"
   ]
  },
  {
   "cell_type": "code",
   "execution_count": 9,
   "id": "e896225f-526e-4741-8d12-9fdc035c3c64",
   "metadata": {},
   "outputs": [
    {
     "data": {
      "text/plain": [
       "is_pass\n",
       "0    27418\n",
       "1     7073\n",
       "Name: count, dtype: int64"
      ]
     },
     "execution_count": 9,
     "metadata": {},
     "output_type": "execute_result"
    }
   ],
   "source": [
    "df['is_pass'].value_counts()"
   ]
  },
  {
   "cell_type": "code",
   "execution_count": 10,
   "id": "6b39abcd-8a01-4606-bd98-317aadb1607b",
   "metadata": {},
   "outputs": [
    {
     "data": {
      "text/plain": [
       "is_loan\n",
       "0    28049\n",
       "1     6442\n",
       "Name: count, dtype: int64"
      ]
     },
     "execution_count": 10,
     "metadata": {},
     "output_type": "execute_result"
    }
   ],
   "source": [
    "df['is_loan'].value_counts()"
   ]
  },
  {
   "cell_type": "code",
   "execution_count": 11,
   "id": "064b9ee0-4ab1-4677-bbb2-c3e5a99cf886",
   "metadata": {},
   "outputs": [
    {
     "data": {
      "text/plain": [
       "is_overdue\n",
       "0.0    5230\n",
       "1.0    1212\n",
       "Name: count, dtype: int64"
      ]
     },
     "execution_count": 11,
     "metadata": {},
     "output_type": "execute_result"
    }
   ],
   "source": [
    "df['is_overdue'].value_counts()"
   ]
  },
  {
   "cell_type": "markdown",
   "id": "9ddc24d0-5b54-409c-8bd2-d752942a024d",
   "metadata": {},
   "source": [
    "# 一、数据清洗和预处理"
   ]
  },
  {
   "cell_type": "markdown",
   "id": "3ef61bd1-4010-435b-91ca-c7a830216a8a",
   "metadata": {},
   "source": [
    "## 1.1 删除缺失值和初步删除对分析结果影响不大的列"
   ]
  },
  {
   "cell_type": "code",
   "execution_count": 5,
   "id": "697a343f-6694-4783-b2d0-eeda02828ac2",
   "metadata": {},
   "outputs": [],
   "source": [
    "loaned=df"
   ]
  },
  {
   "cell_type": "code",
   "execution_count": 6,
   "id": "09959d93-259a-4631-b343-9769fd9c27d8",
   "metadata": {
    "scrolled": true
   },
   "outputs": [],
   "source": [
    "loaned.dropna(subset=['is_overdue','age','occupation_v','cd_score'],inplace=True)"
   ]
  },
  {
   "cell_type": "code",
   "execution_count": 7,
   "id": "241c2d86-2ee7-4021-8bbc-f0746da2ff07",
   "metadata": {
    "scrolled": true
   },
   "outputs": [],
   "source": [
    "loaned.drop(columns=['apply_dt','disbr_dt','live_county','work_county','system_version',\n",
    "                          'cont1_rel_v','cont2_rel_v','ap_al','ap_pdal','ap_longal','ap_dd_1lo',\n",
    "                          'ap_dd_lalo','ap_dd_1lo_1ap'],inplace=True)"
   ]
  },
  {
   "cell_type": "code",
   "execution_count": 9,
   "id": "8ad5a13e-53f8-420e-8f61-a571ac9a3223",
   "metadata": {
    "scrolled": true
   },
   "outputs": [
    {
     "data": {
      "text/plain": [
       "customer_id         0\n",
       "is_pass             0\n",
       "is_loan             0\n",
       "is_overdue          0\n",
       "age                 0\n",
       "gender_v            0\n",
       "education_v         0\n",
       "marriage_v          0\n",
       "live_state          0\n",
       "residence_type_v    0\n",
       "employ_stat_v       0\n",
       "occupation_v        0\n",
       "mon_salary_v        0\n",
       "work_state          0\n",
       "cont_list_no        0\n",
       "ap_pd24h            0\n",
       "ap_pd3d             0\n",
       "ap_pd30d            0\n",
       "ap_long3d           0\n",
       "ap_long30d          0\n",
       "ap_long90d          0\n",
       "ap_loanal           0\n",
       "cd_score            0\n",
       "cd_open_acct        0\n",
       "cd_ovdu_acct        0\n",
       "cd_ovdu_amt         0\n",
       "cd_ovdu_tms         0\n",
       "cd_max_ovdudys      0\n",
       "cd_tot_bal          0\n",
       "cd_enq_tot30d       0\n",
       "cd_enq_tot60d       0\n",
       "cd_enq_org30d       0\n",
       "cd_enq_org60d       0\n",
       "dtype: int64"
      ]
     },
     "execution_count": 9,
     "metadata": {},
     "output_type": "execute_result"
    }
   ],
   "source": [
    "loaned.isnull().sum()"
   ]
  },
  {
   "cell_type": "code",
   "execution_count": 10,
   "id": "eea33dea-f3e5-408c-8f9b-0b7751d5869a",
   "metadata": {},
   "outputs": [],
   "source": [
    "loaned['ap_loanal']=loaned['ap_loanal'].fillna(loaned['ap_pd30d']+loaned['ap_long90d'])"
   ]
  },
  {
   "cell_type": "code",
   "execution_count": 17,
   "id": "51a26a82-7575-4b9b-9667-cc670ef27c0f",
   "metadata": {
    "scrolled": true
   },
   "outputs": [
    {
     "data": {
      "text/plain": [
       "customer_id         0\n",
       "is_pass             0\n",
       "is_loan             0\n",
       "is_overdue          0\n",
       "age                 0\n",
       "gender_v            0\n",
       "education_v         0\n",
       "marriage_v          0\n",
       "live_state          0\n",
       "residence_type_v    0\n",
       "employ_stat_v       0\n",
       "occupation_v        0\n",
       "mon_salary_v        0\n",
       "work_state          0\n",
       "cont_list_no        0\n",
       "ap_pd24h            0\n",
       "ap_pd3d             0\n",
       "ap_pd30d            0\n",
       "ap_long3d           0\n",
       "ap_long30d          0\n",
       "ap_long90d          0\n",
       "ap_loanal           0\n",
       "cd_score            0\n",
       "cd_open_acct        0\n",
       "cd_ovdu_acct        0\n",
       "cd_ovdu_amt         0\n",
       "cd_ovdu_tms         0\n",
       "cd_max_ovdudys      0\n",
       "cd_tot_bal          0\n",
       "cd_enq_tot30d       0\n",
       "cd_enq_tot60d       0\n",
       "cd_enq_org30d       0\n",
       "cd_enq_org60d       0\n",
       "dtype: int64"
      ]
     },
     "execution_count": 17,
     "metadata": {},
     "output_type": "execute_result"
    }
   ],
   "source": [
    "loaned.isnull().sum()"
   ]
  },
  {
   "cell_type": "code",
   "execution_count": 11,
   "id": "d1488857-2a64-4096-abba-4ec02552a1cb",
   "metadata": {},
   "outputs": [],
   "source": [
    "loaned.drop_duplicates(inplace=True)"
   ]
  },
  {
   "cell_type": "markdown",
   "id": "1f889914-fa73-47be-ba21-afd4de8d7c9a",
   "metadata": {},
   "source": [
    "## 1.2 工资列object类型向数值型的转化以及是否逾期列的转化"
   ]
  },
  {
   "cell_type": "code",
   "execution_count": 12,
   "id": "12907cb6-65da-4067-8ef9-208468764092",
   "metadata": {},
   "outputs": [
    {
     "data": {
      "text/plain": [
       "array(['50,000-100,000', '10,000-15,000', '15,000-20,000',\n",
       "       '30,000-50,000', '20,000-30,000', '100,000-200,000',\n",
       "       '200,000-500,000', '<10,000', '>=500,000'], dtype=object)"
      ]
     },
     "execution_count": 12,
     "metadata": {},
     "output_type": "execute_result"
    }
   ],
   "source": [
    "loaned['mon_salary_v'].unique()"
   ]
  },
  {
   "cell_type": "code",
   "execution_count": 13,
   "id": "06496e71-83da-45fb-8c30-6e6462b5fed0",
   "metadata": {},
   "outputs": [
    {
     "data": {
      "text/plain": [
       "mon_salary_v\n",
       "15,000-20,000      1552\n",
       "20,000-30,000      1431\n",
       "50,000-100,000     1365\n",
       "10,000-15,000       919\n",
       "30,000-50,000       529\n",
       "100,000-200,000     224\n",
       "200,000-500,000     116\n",
       "<10,000              67\n",
       ">=500,000            19\n",
       "Name: count, dtype: int64"
      ]
     },
     "execution_count": 13,
     "metadata": {},
     "output_type": "execute_result"
    }
   ],
   "source": [
    "loaned['mon_salary_v'].value_counts()"
   ]
  },
  {
   "cell_type": "code",
   "execution_count": 14,
   "id": "5ff99552-6efc-4a4d-8642-bee28bcec6b0",
   "metadata": {},
   "outputs": [],
   "source": [
    "salary_mapping = {\n",
    "    '50,000-100,000': 75000,\n",
    "    '20,000-30,000': 25000,\n",
    "    '10,000-15,000': 12500,\n",
    "    '30,000-50,000': 40000,\n",
    "    '15,000-20,000': 17500,\n",
    "    '100,000-200,000': 150000,\n",
    "    '200,000-500,000': 350000,\n",
    "    '>=500,000': 500000,\n",
    "    '<10,000': 10000\n",
    "}"
   ]
  },
  {
   "cell_type": "code",
   "execution_count": 15,
   "id": "3f0e95b1-755b-4cba-85e1-dbd7436ce2a2",
   "metadata": {},
   "outputs": [],
   "source": [
    "loaned['mon_salary_v']=loaned['mon_salary_v'].map(salary_mapping)"
   ]
  },
  {
   "cell_type": "code",
   "execution_count": 16,
   "id": "2604b75a-cb15-4e46-a0a8-2d117f83fb2c",
   "metadata": {},
   "outputs": [],
   "source": [
    "is_overdue_mapping = {\n",
    "    1:'逾期',\n",
    "    0:'未逾期'\n",
    "}"
   ]
  },
  {
   "cell_type": "code",
   "execution_count": 17,
   "id": "a772b470-d00a-4c7a-b430-7768d94a2293",
   "metadata": {},
   "outputs": [],
   "source": [
    "loaned['is_overdue']=loaned['is_overdue'].map(is_overdue_mapping)"
   ]
  },
  {
   "cell_type": "markdown",
   "id": "4fdf2c11-c69b-480c-99d7-8704036346f6",
   "metadata": {},
   "source": [
    "## 1.3 进一步简化数据\n",
    "\n",
    "在观察了描述性分析之后发现有几点问题：\n",
    "（1）age列有异常数据\n",
    "（2）ap_pd24h;ap_pd3d;ap_30d同时出现会造成数据分析冗余（ap_long3d等同理）只需要保留ap_30d，\n",
    "（3）有几列还存在-99的数据还没有去除\n",
    "所以进一步简化数据"
   ]
  },
  {
   "cell_type": "code",
   "execution_count": 18,
   "id": "168df191-b7c5-4044-8f07-dabef8d684b6",
   "metadata": {},
   "outputs": [],
   "source": [
    "loaned.drop(columns=['customer_id','is_pass','is_loan','cd_enq_tot30d','cd_enq_tot60d','cd_enq_org30d','cd_enq_org60d','cd_max_ovdudys'],inplace=True)"
   ]
  },
  {
   "cell_type": "code",
   "execution_count": 19,
   "id": "d3f649e2-9c20-4524-8943-974eab568d3f",
   "metadata": {},
   "outputs": [],
   "source": [
    "loaned.drop(columns=['ap_pd24h','ap_pd3d','ap_long3d','ap_long30d'],inplace=True)"
   ]
  },
  {
   "cell_type": "code",
   "execution_count": 20,
   "id": "675aca75-cbf6-42a4-a67a-c2f3280e5500",
   "metadata": {},
   "outputs": [],
   "source": [
    "loaned=loaned[(loaned['age'] >=18) & (loaned['age']<=65)]"
   ]
  },
  {
   "cell_type": "code",
   "execution_count": 21,
   "id": "94e1be6d-19dc-48fa-be6c-182cffc8241d",
   "metadata": {
    "scrolled": true
   },
   "outputs": [
    {
     "data": {
      "text/plain": [
       "age\n",
       "27.0    483\n",
       "28.0    439\n",
       "30.0    409\n",
       "29.0    406\n",
       "26.0    391\n",
       "25.0    391\n",
       "31.0    374\n",
       "32.0    353\n",
       "33.0    326\n",
       "24.0    312\n",
       "23.0    274\n",
       "34.0    259\n",
       "35.0    248\n",
       "36.0    216\n",
       "22.0    200\n",
       "37.0    191\n",
       "38.0    160\n",
       "40.0    122\n",
       "39.0    117\n",
       "41.0    104\n",
       "42.0     73\n",
       "43.0     66\n",
       "44.0     54\n",
       "21.0     53\n",
       "45.0     41\n",
       "46.0     36\n",
       "20.0     27\n",
       "47.0     19\n",
       "48.0     19\n",
       "50.0     12\n",
       "51.0      7\n",
       "49.0      7\n",
       "18.0      5\n",
       "52.0      5\n",
       "55.0      4\n",
       "53.0      4\n",
       "54.0      3\n",
       "19.0      2\n",
       "58.0      2\n",
       "57.0      1\n",
       "56.0      1\n",
       "Name: count, dtype: int64"
      ]
     },
     "execution_count": 21,
     "metadata": {},
     "output_type": "execute_result"
    }
   ],
   "source": [
    "loaned['age'].value_counts()"
   ]
  },
  {
   "cell_type": "code",
   "execution_count": 29,
   "id": "1e555d32-014f-487d-a762-a5c48e1daa6d",
   "metadata": {
    "scrolled": true
   },
   "outputs": [
    {
     "name": "stdout",
     "output_type": "stream",
     "text": [
      "<class 'pandas.core.frame.DataFrame'>\n",
      "Index: 6216 entries, 0 to 33490\n",
      "Data columns (total 21 columns):\n",
      " #   Column            Non-Null Count  Dtype  \n",
      "---  ------            --------------  -----  \n",
      " 0   is_overdue        6216 non-null   object \n",
      " 1   age               6216 non-null   float64\n",
      " 2   gender_v          6216 non-null   object \n",
      " 3   education_v       6216 non-null   object \n",
      " 4   marriage_v        6216 non-null   object \n",
      " 5   live_state        6216 non-null   int64  \n",
      " 6   residence_type_v  6216 non-null   object \n",
      " 7   employ_stat_v     6216 non-null   object \n",
      " 8   occupation_v      6216 non-null   object \n",
      " 9   mon_salary_v      6216 non-null   int64  \n",
      " 10  work_state        6216 non-null   int64  \n",
      " 11  cont_list_no      6216 non-null   float64\n",
      " 12  ap_pd30d          6216 non-null   float64\n",
      " 13  ap_long90d        6216 non-null   float64\n",
      " 14  ap_loanal         6216 non-null   float64\n",
      " 15  cd_score          6216 non-null   float64\n",
      " 16  cd_open_acct      6216 non-null   float64\n",
      " 17  cd_ovdu_acct      6216 non-null   float64\n",
      " 18  cd_ovdu_amt       6216 non-null   float64\n",
      " 19  cd_ovdu_tms       6216 non-null   float64\n",
      " 20  cd_tot_bal        6216 non-null   float64\n",
      "dtypes: float64(11), int64(3), object(7)\n",
      "memory usage: 1.0+ MB\n"
     ]
    }
   ],
   "source": [
    "loaned.info()"
   ]
  },
  {
   "cell_type": "code",
   "execution_count": 30,
   "id": "4ff76eea-d115-4bbb-b4f4-e7b5143a2fc4",
   "metadata": {},
   "outputs": [
    {
     "data": {
      "text/plain": [
       "cd_score\n",
       " 755.0    741\n",
       " 760.0    638\n",
       " 6.0      623\n",
       " 5.0      464\n",
       "-99.0     368\n",
       "         ... \n",
       " 592.0      1\n",
       " 528.0      1\n",
       " 597.0      1\n",
       " 829.0      1\n",
       " 652.0      1\n",
       "Name: count, Length: 220, dtype: int64"
      ]
     },
     "execution_count": 30,
     "metadata": {},
     "output_type": "execute_result"
    }
   ],
   "source": [
    "loaned['cd_score'].value_counts()"
   ]
  },
  {
   "cell_type": "code",
   "execution_count": 22,
   "id": "91fff69f-e21c-4f7e-a841-24e070207b67",
   "metadata": {
    "scrolled": true
   },
   "outputs": [],
   "source": [
    "loaned=loaned[~(loaned['cd_score'] == -99)]"
   ]
  },
  {
   "cell_type": "code",
   "execution_count": 23,
   "id": "9bb0180d-8756-4115-bf35-30e5282b055f",
   "metadata": {},
   "outputs": [],
   "source": [
    "loaned=loaned[~(loaned['ap_pd30d'] == -99)]"
   ]
  },
  {
   "cell_type": "code",
   "execution_count": 33,
   "id": "c4cfb097-099a-448d-9530-0e74ac052468",
   "metadata": {},
   "outputs": [
    {
     "data": {
      "text/html": [
       "<div>\n",
       "<style scoped>\n",
       "    .dataframe tbody tr th:only-of-type {\n",
       "        vertical-align: middle;\n",
       "    }\n",
       "\n",
       "    .dataframe tbody tr th {\n",
       "        vertical-align: top;\n",
       "    }\n",
       "\n",
       "    .dataframe thead th {\n",
       "        text-align: right;\n",
       "    }\n",
       "</style>\n",
       "<table border=\"1\" class=\"dataframe\">\n",
       "  <thead>\n",
       "    <tr style=\"text-align: right;\">\n",
       "      <th></th>\n",
       "      <th>is_overdue</th>\n",
       "      <th>age</th>\n",
       "      <th>gender_v</th>\n",
       "      <th>education_v</th>\n",
       "      <th>marriage_v</th>\n",
       "      <th>live_state</th>\n",
       "      <th>residence_type_v</th>\n",
       "      <th>employ_stat_v</th>\n",
       "      <th>occupation_v</th>\n",
       "      <th>mon_salary_v</th>\n",
       "      <th>...</th>\n",
       "      <th>cont_list_no</th>\n",
       "      <th>ap_pd30d</th>\n",
       "      <th>ap_long90d</th>\n",
       "      <th>ap_loanal</th>\n",
       "      <th>cd_score</th>\n",
       "      <th>cd_open_acct</th>\n",
       "      <th>cd_ovdu_acct</th>\n",
       "      <th>cd_ovdu_amt</th>\n",
       "      <th>cd_ovdu_tms</th>\n",
       "      <th>cd_tot_bal</th>\n",
       "    </tr>\n",
       "  </thead>\n",
       "  <tbody>\n",
       "    <tr>\n",
       "      <th>1845</th>\n",
       "      <td>未逾期</td>\n",
       "      <td>29.0</td>\n",
       "      <td>Male</td>\n",
       "      <td>12th</td>\n",
       "      <td>Married</td>\n",
       "      <td>10200000</td>\n",
       "      <td>Own a house</td>\n",
       "      <td>Self-employed</td>\n",
       "      <td>Professional</td>\n",
       "      <td>75000</td>\n",
       "      <td>...</td>\n",
       "      <td>198.0</td>\n",
       "      <td>2.0</td>\n",
       "      <td>6.0</td>\n",
       "      <td>8.0</td>\n",
       "      <td>760.0</td>\n",
       "      <td>1.0</td>\n",
       "      <td>0.0</td>\n",
       "      <td>0.0</td>\n",
       "      <td>0.0</td>\n",
       "      <td>3894.0</td>\n",
       "    </tr>\n",
       "    <tr>\n",
       "      <th>21834</th>\n",
       "      <td>未逾期</td>\n",
       "      <td>27.0</td>\n",
       "      <td>Male</td>\n",
       "      <td>10th</td>\n",
       "      <td>Married</td>\n",
       "      <td>10190000</td>\n",
       "      <td>Other</td>\n",
       "      <td>Salaried</td>\n",
       "      <td>Service and sales workers</td>\n",
       "      <td>75000</td>\n",
       "      <td>...</td>\n",
       "      <td>470.0</td>\n",
       "      <td>3.0</td>\n",
       "      <td>1.0</td>\n",
       "      <td>4.0</td>\n",
       "      <td>755.0</td>\n",
       "      <td>6.0</td>\n",
       "      <td>0.0</td>\n",
       "      <td>0.0</td>\n",
       "      <td>0.0</td>\n",
       "      <td>77830.0</td>\n",
       "    </tr>\n",
       "    <tr>\n",
       "      <th>22376</th>\n",
       "      <td>逾期</td>\n",
       "      <td>23.0</td>\n",
       "      <td>Female</td>\n",
       "      <td>Graduation/Diploma</td>\n",
       "      <td>Married</td>\n",
       "      <td>10150000</td>\n",
       "      <td>Rent</td>\n",
       "      <td>Salaried</td>\n",
       "      <td>Service and sales workers</td>\n",
       "      <td>12500</td>\n",
       "      <td>...</td>\n",
       "      <td>362.0</td>\n",
       "      <td>3.0</td>\n",
       "      <td>3.0</td>\n",
       "      <td>8.0</td>\n",
       "      <td>6.0</td>\n",
       "      <td>2.0</td>\n",
       "      <td>0.0</td>\n",
       "      <td>0.0</td>\n",
       "      <td>0.0</td>\n",
       "      <td>95700.0</td>\n",
       "    </tr>\n",
       "    <tr>\n",
       "      <th>26222</th>\n",
       "      <td>未逾期</td>\n",
       "      <td>32.0</td>\n",
       "      <td>Male</td>\n",
       "      <td>Graduation/Diploma</td>\n",
       "      <td>Married</td>\n",
       "      <td>10310000</td>\n",
       "      <td>Own a house</td>\n",
       "      <td>Salaried</td>\n",
       "      <td>Service and sales workers</td>\n",
       "      <td>25000</td>\n",
       "      <td>...</td>\n",
       "      <td>252.0</td>\n",
       "      <td>3.0</td>\n",
       "      <td>4.0</td>\n",
       "      <td>6.0</td>\n",
       "      <td>706.0</td>\n",
       "      <td>5.0</td>\n",
       "      <td>0.0</td>\n",
       "      <td>0.0</td>\n",
       "      <td>1.0</td>\n",
       "      <td>110941.0</td>\n",
       "    </tr>\n",
       "    <tr>\n",
       "      <th>9418</th>\n",
       "      <td>未逾期</td>\n",
       "      <td>29.0</td>\n",
       "      <td>Male</td>\n",
       "      <td>10th</td>\n",
       "      <td>Married</td>\n",
       "      <td>10330000</td>\n",
       "      <td>Own a house</td>\n",
       "      <td>Salaried</td>\n",
       "      <td>Skilled agricultural, forestry and fishery wor...</td>\n",
       "      <td>17500</td>\n",
       "      <td>...</td>\n",
       "      <td>252.0</td>\n",
       "      <td>4.0</td>\n",
       "      <td>1.0</td>\n",
       "      <td>5.0</td>\n",
       "      <td>629.0</td>\n",
       "      <td>1.0</td>\n",
       "      <td>0.0</td>\n",
       "      <td>0.0</td>\n",
       "      <td>0.0</td>\n",
       "      <td>30039.0</td>\n",
       "    </tr>\n",
       "    <tr>\n",
       "      <th>23309</th>\n",
       "      <td>未逾期</td>\n",
       "      <td>28.0</td>\n",
       "      <td>Male</td>\n",
       "      <td>Graduation/Diploma</td>\n",
       "      <td>Married</td>\n",
       "      <td>10340000</td>\n",
       "      <td>Own a house</td>\n",
       "      <td>Salaried</td>\n",
       "      <td>Managers</td>\n",
       "      <td>40000</td>\n",
       "      <td>...</td>\n",
       "      <td>322.0</td>\n",
       "      <td>1.0</td>\n",
       "      <td>3.0</td>\n",
       "      <td>9.0</td>\n",
       "      <td>614.0</td>\n",
       "      <td>4.0</td>\n",
       "      <td>1.0</td>\n",
       "      <td>30.0</td>\n",
       "      <td>1.0</td>\n",
       "      <td>1046762.0</td>\n",
       "    </tr>\n",
       "    <tr>\n",
       "      <th>10327</th>\n",
       "      <td>未逾期</td>\n",
       "      <td>35.0</td>\n",
       "      <td>Male</td>\n",
       "      <td>10th</td>\n",
       "      <td>Married</td>\n",
       "      <td>10250000</td>\n",
       "      <td>Own a house</td>\n",
       "      <td>Self-employed</td>\n",
       "      <td>Technicians and associate prefessionals</td>\n",
       "      <td>17500</td>\n",
       "      <td>...</td>\n",
       "      <td>249.0</td>\n",
       "      <td>1.0</td>\n",
       "      <td>2.0</td>\n",
       "      <td>3.0</td>\n",
       "      <td>761.0</td>\n",
       "      <td>0.0</td>\n",
       "      <td>0.0</td>\n",
       "      <td>0.0</td>\n",
       "      <td>0.0</td>\n",
       "      <td>0.0</td>\n",
       "    </tr>\n",
       "    <tr>\n",
       "      <th>10959</th>\n",
       "      <td>未逾期</td>\n",
       "      <td>24.0</td>\n",
       "      <td>Male</td>\n",
       "      <td>12th</td>\n",
       "      <td>Single</td>\n",
       "      <td>10270000</td>\n",
       "      <td>Own a house</td>\n",
       "      <td>Self-employed</td>\n",
       "      <td>Technicians and associate prefessionals</td>\n",
       "      <td>25000</td>\n",
       "      <td>...</td>\n",
       "      <td>1005.0</td>\n",
       "      <td>2.0</td>\n",
       "      <td>4.0</td>\n",
       "      <td>6.0</td>\n",
       "      <td>714.0</td>\n",
       "      <td>3.0</td>\n",
       "      <td>0.0</td>\n",
       "      <td>0.0</td>\n",
       "      <td>2.0</td>\n",
       "      <td>38820.0</td>\n",
       "    </tr>\n",
       "    <tr>\n",
       "      <th>16961</th>\n",
       "      <td>未逾期</td>\n",
       "      <td>27.0</td>\n",
       "      <td>Male</td>\n",
       "      <td>12th</td>\n",
       "      <td>Single</td>\n",
       "      <td>10190000</td>\n",
       "      <td>Rent</td>\n",
       "      <td>Self-employed</td>\n",
       "      <td>Service and sales workers</td>\n",
       "      <td>12500</td>\n",
       "      <td>...</td>\n",
       "      <td>161.0</td>\n",
       "      <td>3.0</td>\n",
       "      <td>2.0</td>\n",
       "      <td>7.0</td>\n",
       "      <td>6.0</td>\n",
       "      <td>1.0</td>\n",
       "      <td>1.0</td>\n",
       "      <td>2873.0</td>\n",
       "      <td>0.0</td>\n",
       "      <td>97682.0</td>\n",
       "    </tr>\n",
       "    <tr>\n",
       "      <th>10179</th>\n",
       "      <td>逾期</td>\n",
       "      <td>35.0</td>\n",
       "      <td>Male</td>\n",
       "      <td>10th</td>\n",
       "      <td>Married</td>\n",
       "      <td>10100000</td>\n",
       "      <td>Own a house</td>\n",
       "      <td>Salaried</td>\n",
       "      <td>Managers</td>\n",
       "      <td>12500</td>\n",
       "      <td>...</td>\n",
       "      <td>871.0</td>\n",
       "      <td>3.0</td>\n",
       "      <td>1.0</td>\n",
       "      <td>6.0</td>\n",
       "      <td>696.0</td>\n",
       "      <td>1.0</td>\n",
       "      <td>0.0</td>\n",
       "      <td>0.0</td>\n",
       "      <td>0.0</td>\n",
       "      <td>550892.0</td>\n",
       "    </tr>\n",
       "  </tbody>\n",
       "</table>\n",
       "<p>10 rows × 21 columns</p>\n",
       "</div>"
      ],
      "text/plain": [
       "      is_overdue   age gender_v         education_v marriage_v  live_state  \\\n",
       "1845         未逾期  29.0     Male                12th    Married    10200000   \n",
       "21834        未逾期  27.0     Male                10th    Married    10190000   \n",
       "22376         逾期  23.0   Female  Graduation/Diploma    Married    10150000   \n",
       "26222        未逾期  32.0     Male  Graduation/Diploma    Married    10310000   \n",
       "9418         未逾期  29.0     Male                10th    Married    10330000   \n",
       "23309        未逾期  28.0     Male  Graduation/Diploma    Married    10340000   \n",
       "10327        未逾期  35.0     Male                10th    Married    10250000   \n",
       "10959        未逾期  24.0     Male                12th     Single    10270000   \n",
       "16961        未逾期  27.0     Male                12th     Single    10190000   \n",
       "10179         逾期  35.0     Male                10th    Married    10100000   \n",
       "\n",
       "      residence_type_v  employ_stat_v  \\\n",
       "1845       Own a house  Self-employed   \n",
       "21834            Other       Salaried   \n",
       "22376             Rent       Salaried   \n",
       "26222      Own a house       Salaried   \n",
       "9418       Own a house       Salaried   \n",
       "23309      Own a house       Salaried   \n",
       "10327      Own a house  Self-employed   \n",
       "10959      Own a house  Self-employed   \n",
       "16961             Rent  Self-employed   \n",
       "10179      Own a house       Salaried   \n",
       "\n",
       "                                            occupation_v  mon_salary_v  ...  \\\n",
       "1845                                        Professional         75000  ...   \n",
       "21834                          Service and sales workers         75000  ...   \n",
       "22376                          Service and sales workers         12500  ...   \n",
       "26222                          Service and sales workers         25000  ...   \n",
       "9418   Skilled agricultural, forestry and fishery wor...         17500  ...   \n",
       "23309                                           Managers         40000  ...   \n",
       "10327            Technicians and associate prefessionals         17500  ...   \n",
       "10959            Technicians and associate prefessionals         25000  ...   \n",
       "16961                          Service and sales workers         12500  ...   \n",
       "10179                                           Managers         12500  ...   \n",
       "\n",
       "       cont_list_no  ap_pd30d  ap_long90d  ap_loanal  cd_score  cd_open_acct  \\\n",
       "1845          198.0       2.0         6.0        8.0     760.0           1.0   \n",
       "21834         470.0       3.0         1.0        4.0     755.0           6.0   \n",
       "22376         362.0       3.0         3.0        8.0       6.0           2.0   \n",
       "26222         252.0       3.0         4.0        6.0     706.0           5.0   \n",
       "9418          252.0       4.0         1.0        5.0     629.0           1.0   \n",
       "23309         322.0       1.0         3.0        9.0     614.0           4.0   \n",
       "10327         249.0       1.0         2.0        3.0     761.0           0.0   \n",
       "10959        1005.0       2.0         4.0        6.0     714.0           3.0   \n",
       "16961         161.0       3.0         2.0        7.0       6.0           1.0   \n",
       "10179         871.0       3.0         1.0        6.0     696.0           1.0   \n",
       "\n",
       "       cd_ovdu_acct  cd_ovdu_amt  cd_ovdu_tms  cd_tot_bal  \n",
       "1845            0.0          0.0          0.0      3894.0  \n",
       "21834           0.0          0.0          0.0     77830.0  \n",
       "22376           0.0          0.0          0.0     95700.0  \n",
       "26222           0.0          0.0          1.0    110941.0  \n",
       "9418            0.0          0.0          0.0     30039.0  \n",
       "23309           1.0         30.0          1.0   1046762.0  \n",
       "10327           0.0          0.0          0.0         0.0  \n",
       "10959           0.0          0.0          2.0     38820.0  \n",
       "16961           1.0       2873.0          0.0     97682.0  \n",
       "10179           0.0          0.0          0.0    550892.0  \n",
       "\n",
       "[10 rows x 21 columns]"
      ]
     },
     "execution_count": 33,
     "metadata": {},
     "output_type": "execute_result"
    }
   ],
   "source": [
    "loaned.sample(10)"
   ]
  },
  {
   "cell_type": "code",
   "execution_count": 34,
   "id": "2120cf09-9555-4706-9711-df315c21504a",
   "metadata": {},
   "outputs": [
    {
     "name": "stdout",
     "output_type": "stream",
     "text": [
      "<class 'pandas.core.frame.DataFrame'>\n",
      "Index: 5830 entries, 0 to 33490\n",
      "Data columns (total 21 columns):\n",
      " #   Column            Non-Null Count  Dtype  \n",
      "---  ------            --------------  -----  \n",
      " 0   is_overdue        5830 non-null   object \n",
      " 1   age               5830 non-null   float64\n",
      " 2   gender_v          5830 non-null   object \n",
      " 3   education_v       5830 non-null   object \n",
      " 4   marriage_v        5830 non-null   object \n",
      " 5   live_state        5830 non-null   int64  \n",
      " 6   residence_type_v  5830 non-null   object \n",
      " 7   employ_stat_v     5830 non-null   object \n",
      " 8   occupation_v      5830 non-null   object \n",
      " 9   mon_salary_v      5830 non-null   int64  \n",
      " 10  work_state        5830 non-null   int64  \n",
      " 11  cont_list_no      5830 non-null   float64\n",
      " 12  ap_pd30d          5830 non-null   float64\n",
      " 13  ap_long90d        5830 non-null   float64\n",
      " 14  ap_loanal         5830 non-null   float64\n",
      " 15  cd_score          5830 non-null   float64\n",
      " 16  cd_open_acct      5830 non-null   float64\n",
      " 17  cd_ovdu_acct      5830 non-null   float64\n",
      " 18  cd_ovdu_amt       5830 non-null   float64\n",
      " 19  cd_ovdu_tms       5830 non-null   float64\n",
      " 20  cd_tot_bal        5830 non-null   float64\n",
      "dtypes: float64(11), int64(3), object(7)\n",
      "memory usage: 1002.0+ KB\n"
     ]
    }
   ],
   "source": [
    "loaned.info()"
   ]
  },
  {
   "cell_type": "markdown",
   "id": "c307b5d4-0f40-4cff-977f-fe8d1d2c30fe",
   "metadata": {},
   "source": [
    "# 二、数据的探索性分析"
   ]
  },
  {
   "cell_type": "code",
   "execution_count": 35,
   "id": "42262da5-9ae5-4467-9efe-3342bae23516",
   "metadata": {},
   "outputs": [
    {
     "data": {
      "text/html": [
       "<div>\n",
       "<style scoped>\n",
       "    .dataframe tbody tr th:only-of-type {\n",
       "        vertical-align: middle;\n",
       "    }\n",
       "\n",
       "    .dataframe tbody tr th {\n",
       "        vertical-align: top;\n",
       "    }\n",
       "\n",
       "    .dataframe thead th {\n",
       "        text-align: right;\n",
       "    }\n",
       "</style>\n",
       "<table border=\"1\" class=\"dataframe\">\n",
       "  <thead>\n",
       "    <tr style=\"text-align: right;\">\n",
       "      <th></th>\n",
       "      <th>age</th>\n",
       "      <th>live_state</th>\n",
       "      <th>mon_salary_v</th>\n",
       "      <th>work_state</th>\n",
       "      <th>cont_list_no</th>\n",
       "      <th>ap_pd30d</th>\n",
       "      <th>ap_long90d</th>\n",
       "      <th>ap_loanal</th>\n",
       "      <th>cd_score</th>\n",
       "      <th>cd_open_acct</th>\n",
       "      <th>cd_ovdu_acct</th>\n",
       "      <th>cd_ovdu_amt</th>\n",
       "      <th>cd_ovdu_tms</th>\n",
       "      <th>cd_tot_bal</th>\n",
       "    </tr>\n",
       "  </thead>\n",
       "  <tbody>\n",
       "    <tr>\n",
       "      <th>count</th>\n",
       "      <td>5830.000000</td>\n",
       "      <td>5.830000e+03</td>\n",
       "      <td>5830.000000</td>\n",
       "      <td>5.830000e+03</td>\n",
       "      <td>5830.000000</td>\n",
       "      <td>5830.000000</td>\n",
       "      <td>5830.000000</td>\n",
       "      <td>5830.000000</td>\n",
       "      <td>5830.000000</td>\n",
       "      <td>5830.000000</td>\n",
       "      <td>5830.000000</td>\n",
       "      <td>5830.000000</td>\n",
       "      <td>5830.000000</td>\n",
       "      <td>5.830000e+03</td>\n",
       "    </tr>\n",
       "    <tr>\n",
       "      <th>mean</th>\n",
       "      <td>30.813036</td>\n",
       "      <td>1.019123e+07</td>\n",
       "      <td>44033.018868</td>\n",
       "      <td>1.019007e+07</td>\n",
       "      <td>391.092453</td>\n",
       "      <td>3.112178</td>\n",
       "      <td>3.161063</td>\n",
       "      <td>7.607204</td>\n",
       "      <td>582.140652</td>\n",
       "      <td>3.396398</td>\n",
       "      <td>0.122813</td>\n",
       "      <td>182.002230</td>\n",
       "      <td>0.253859</td>\n",
       "      <td>1.204587e+05</td>\n",
       "    </tr>\n",
       "    <tr>\n",
       "      <th>std</th>\n",
       "      <td>5.958313</td>\n",
       "      <td>3.762756e+05</td>\n",
       "      <td>56223.645997</td>\n",
       "      <td>3.758175e+05</td>\n",
       "      <td>343.106459</td>\n",
       "      <td>2.387228</td>\n",
       "      <td>2.425693</td>\n",
       "      <td>4.874202</td>\n",
       "      <td>291.935391</td>\n",
       "      <td>2.524708</td>\n",
       "      <td>0.328251</td>\n",
       "      <td>684.025016</td>\n",
       "      <td>0.709261</td>\n",
       "      <td>2.868448e+05</td>\n",
       "    </tr>\n",
       "    <tr>\n",
       "      <th>min</th>\n",
       "      <td>18.000000</td>\n",
       "      <td>1.009000e+06</td>\n",
       "      <td>10000.000000</td>\n",
       "      <td>1.009000e+06</td>\n",
       "      <td>0.000000</td>\n",
       "      <td>0.000000</td>\n",
       "      <td>0.000000</td>\n",
       "      <td>0.000000</td>\n",
       "      <td>1.000000</td>\n",
       "      <td>0.000000</td>\n",
       "      <td>0.000000</td>\n",
       "      <td>0.000000</td>\n",
       "      <td>0.000000</td>\n",
       "      <td>-4.375300e+04</td>\n",
       "    </tr>\n",
       "    <tr>\n",
       "      <th>25%</th>\n",
       "      <td>26.000000</td>\n",
       "      <td>1.014000e+07</td>\n",
       "      <td>17500.000000</td>\n",
       "      <td>1.014000e+07</td>\n",
       "      <td>177.000000</td>\n",
       "      <td>1.000000</td>\n",
       "      <td>1.000000</td>\n",
       "      <td>4.000000</td>\n",
       "      <td>630.000000</td>\n",
       "      <td>1.000000</td>\n",
       "      <td>0.000000</td>\n",
       "      <td>0.000000</td>\n",
       "      <td>0.000000</td>\n",
       "      <td>7.271000e+03</td>\n",
       "    </tr>\n",
       "    <tr>\n",
       "      <th>50%</th>\n",
       "      <td>30.000000</td>\n",
       "      <td>1.020000e+07</td>\n",
       "      <td>25000.000000</td>\n",
       "      <td>1.020000e+07</td>\n",
       "      <td>301.000000</td>\n",
       "      <td>3.000000</td>\n",
       "      <td>3.000000</td>\n",
       "      <td>7.000000</td>\n",
       "      <td>733.000000</td>\n",
       "      <td>3.000000</td>\n",
       "      <td>0.000000</td>\n",
       "      <td>0.000000</td>\n",
       "      <td>0.000000</td>\n",
       "      <td>3.821000e+04</td>\n",
       "    </tr>\n",
       "    <tr>\n",
       "      <th>75%</th>\n",
       "      <td>34.000000</td>\n",
       "      <td>1.030000e+07</td>\n",
       "      <td>75000.000000</td>\n",
       "      <td>1.030000e+07</td>\n",
       "      <td>492.000000</td>\n",
       "      <td>4.000000</td>\n",
       "      <td>5.000000</td>\n",
       "      <td>11.000000</td>\n",
       "      <td>755.000000</td>\n",
       "      <td>5.000000</td>\n",
       "      <td>0.000000</td>\n",
       "      <td>0.000000</td>\n",
       "      <td>0.000000</td>\n",
       "      <td>1.170745e+05</td>\n",
       "    </tr>\n",
       "    <tr>\n",
       "      <th>max</th>\n",
       "      <td>58.000000</td>\n",
       "      <td>1.035000e+07</td>\n",
       "      <td>500000.000000</td>\n",
       "      <td>1.035000e+07</td>\n",
       "      <td>5391.000000</td>\n",
       "      <td>14.000000</td>\n",
       "      <td>15.000000</td>\n",
       "      <td>38.000000</td>\n",
       "      <td>829.000000</td>\n",
       "      <td>10.000000</td>\n",
       "      <td>1.000000</td>\n",
       "      <td>5000.000000</td>\n",
       "      <td>5.000000</td>\n",
       "      <td>7.922937e+06</td>\n",
       "    </tr>\n",
       "  </tbody>\n",
       "</table>\n",
       "</div>"
      ],
      "text/plain": [
       "               age    live_state   mon_salary_v    work_state  cont_list_no  \\\n",
       "count  5830.000000  5.830000e+03    5830.000000  5.830000e+03   5830.000000   \n",
       "mean     30.813036  1.019123e+07   44033.018868  1.019007e+07    391.092453   \n",
       "std       5.958313  3.762756e+05   56223.645997  3.758175e+05    343.106459   \n",
       "min      18.000000  1.009000e+06   10000.000000  1.009000e+06      0.000000   \n",
       "25%      26.000000  1.014000e+07   17500.000000  1.014000e+07    177.000000   \n",
       "50%      30.000000  1.020000e+07   25000.000000  1.020000e+07    301.000000   \n",
       "75%      34.000000  1.030000e+07   75000.000000  1.030000e+07    492.000000   \n",
       "max      58.000000  1.035000e+07  500000.000000  1.035000e+07   5391.000000   \n",
       "\n",
       "          ap_pd30d   ap_long90d    ap_loanal     cd_score  cd_open_acct  \\\n",
       "count  5830.000000  5830.000000  5830.000000  5830.000000   5830.000000   \n",
       "mean      3.112178     3.161063     7.607204   582.140652      3.396398   \n",
       "std       2.387228     2.425693     4.874202   291.935391      2.524708   \n",
       "min       0.000000     0.000000     0.000000     1.000000      0.000000   \n",
       "25%       1.000000     1.000000     4.000000   630.000000      1.000000   \n",
       "50%       3.000000     3.000000     7.000000   733.000000      3.000000   \n",
       "75%       4.000000     5.000000    11.000000   755.000000      5.000000   \n",
       "max      14.000000    15.000000    38.000000   829.000000     10.000000   \n",
       "\n",
       "       cd_ovdu_acct  cd_ovdu_amt  cd_ovdu_tms    cd_tot_bal  \n",
       "count   5830.000000  5830.000000  5830.000000  5.830000e+03  \n",
       "mean       0.122813   182.002230     0.253859  1.204587e+05  \n",
       "std        0.328251   684.025016     0.709261  2.868448e+05  \n",
       "min        0.000000     0.000000     0.000000 -4.375300e+04  \n",
       "25%        0.000000     0.000000     0.000000  7.271000e+03  \n",
       "50%        0.000000     0.000000     0.000000  3.821000e+04  \n",
       "75%        0.000000     0.000000     0.000000  1.170745e+05  \n",
       "max        1.000000  5000.000000     5.000000  7.922937e+06  "
      ]
     },
     "execution_count": 35,
     "metadata": {},
     "output_type": "execute_result"
    }
   ],
   "source": [
    "loaned.describe()"
   ]
  },
  {
   "cell_type": "code",
   "execution_count": 36,
   "id": "fce84991-aa8a-459d-83b3-2c2fb137db6a",
   "metadata": {},
   "outputs": [
    {
     "data": {
      "text/html": [
       "<div>\n",
       "<style scoped>\n",
       "    .dataframe tbody tr th:only-of-type {\n",
       "        vertical-align: middle;\n",
       "    }\n",
       "\n",
       "    .dataframe tbody tr th {\n",
       "        vertical-align: top;\n",
       "    }\n",
       "\n",
       "    .dataframe thead th {\n",
       "        text-align: right;\n",
       "    }\n",
       "</style>\n",
       "<table border=\"1\" class=\"dataframe\">\n",
       "  <thead>\n",
       "    <tr style=\"text-align: right;\">\n",
       "      <th></th>\n",
       "      <th>is_overdue</th>\n",
       "      <th>gender_v</th>\n",
       "      <th>education_v</th>\n",
       "      <th>marriage_v</th>\n",
       "      <th>residence_type_v</th>\n",
       "      <th>employ_stat_v</th>\n",
       "      <th>occupation_v</th>\n",
       "    </tr>\n",
       "  </thead>\n",
       "  <tbody>\n",
       "    <tr>\n",
       "      <th>count</th>\n",
       "      <td>5830</td>\n",
       "      <td>5830</td>\n",
       "      <td>5830</td>\n",
       "      <td>5830</td>\n",
       "      <td>5830</td>\n",
       "      <td>5830</td>\n",
       "      <td>5830</td>\n",
       "    </tr>\n",
       "    <tr>\n",
       "      <th>unique</th>\n",
       "      <td>2</td>\n",
       "      <td>2</td>\n",
       "      <td>6</td>\n",
       "      <td>4</td>\n",
       "      <td>5</td>\n",
       "      <td>5</td>\n",
       "      <td>10</td>\n",
       "    </tr>\n",
       "    <tr>\n",
       "      <th>top</th>\n",
       "      <td>未逾期</td>\n",
       "      <td>Male</td>\n",
       "      <td>Graduation/Diploma</td>\n",
       "      <td>Married</td>\n",
       "      <td>Own a house</td>\n",
       "      <td>Salaried</td>\n",
       "      <td>Service and sales workers</td>\n",
       "    </tr>\n",
       "    <tr>\n",
       "      <th>freq</th>\n",
       "      <td>4788</td>\n",
       "      <td>5240</td>\n",
       "      <td>2641</td>\n",
       "      <td>3434</td>\n",
       "      <td>4169</td>\n",
       "      <td>3795</td>\n",
       "      <td>1913</td>\n",
       "    </tr>\n",
       "  </tbody>\n",
       "</table>\n",
       "</div>"
      ],
      "text/plain": [
       "       is_overdue gender_v         education_v marriage_v residence_type_v  \\\n",
       "count        5830     5830                5830       5830             5830   \n",
       "unique          2        2                   6          4                5   \n",
       "top           未逾期     Male  Graduation/Diploma    Married      Own a house   \n",
       "freq         4788     5240                2641       3434             4169   \n",
       "\n",
       "       employ_stat_v               occupation_v  \n",
       "count           5830                       5830  \n",
       "unique             5                         10  \n",
       "top         Salaried  Service and sales workers  \n",
       "freq            3795                       1913  "
      ]
     },
     "execution_count": 36,
     "metadata": {},
     "output_type": "execute_result"
    }
   ],
   "source": [
    "loaned.describe(include=['object'])"
   ]
  },
  {
   "cell_type": "markdown",
   "id": "bc211b93-8be5-41fe-8930-4e087010920b",
   "metadata": {},
   "source": [
    "数据的分布形状（如偏度、峰度等）可以通过可视化的方法进行展现"
   ]
  },
  {
   "cell_type": "code",
   "execution_count": 24,
   "id": "370d0e0c-70b8-4f64-bcfd-5a2aa7a0a30d",
   "metadata": {},
   "outputs": [
    {
     "data": {
      "image/png": "[encoded data removed]",
      "text/plain": [
       "<Figure size 640x480 with 3 Axes>"
      ]
     },
     "metadata": {},
     "output_type": "display_data"
    }
   ],
   "source": [
    "import matplotlib.pyplot as plt\n",
    "plt.style.use('ggplot')\n",
    "fig, axes = plt.subplots(3, 1)\n",
    "# 绘制是否会逾期的年龄核密度图\n",
    "loaned.age[loaned.is_overdue == '逾期'].plot(kind = 'kde', label = 'overdued', ax = axes[0], legend = True, linestyle = '-')\n",
    "loaned.age[loaned.is_overdue == '未逾期'].plot(kind = 'kde', label = 'dont overdued', ax = axes[0], legend = True, linestyle = '--')\n",
    "# 绘制是否会逾期的月收入核密度图\n",
    "loaned.mon_salary_v[loaned.is_overdue == '逾期'].plot(kind = 'kde', label = 'overdued', ax = axes[1], legend = True, linestyle = '-')\n",
    "loaned.mon_salary_v[loaned.is_overdue == '未逾期'].plot(kind = 'kde', label = 'dont overdued', ax = axes[1], legend = True, linestyle = '--')\n",
    "# 绘制是否会逾期的征信核密度图\n",
    "loaned.cd_score[loaned.is_overdue == '逾期'].plot(kind = 'kde', label = 'overdued', ax = axes[2], legend = True, linestyle = '-')\n",
    "loaned.cd_score[loaned.is_overdue == '未逾期'].plot(kind = 'kde', label = 'dont overdued', ax = axes[2], legend = True, linestyle = '--')\n",
    "plt.show()"
   ]
  },
  {
   "cell_type": "markdown",
   "id": "6ad5cefc-9568-4034-80ed-b1c4c1f14f70",
   "metadata": {},
   "source": [
    "对于离散型变量的分析"
   ]
  },
  {
   "cell_type": "code",
   "execution_count": 39,
   "id": "6ec8ba62-b1ef-4111-b1e7-b51d19c58bf7",
   "metadata": {},
   "outputs": [
    {
     "data": {
      "text/html": [
       "<div>\n",
       "<style scoped>\n",
       "    .dataframe tbody tr th:only-of-type {\n",
       "        vertical-align: middle;\n",
       "    }\n",
       "\n",
       "    .dataframe tbody tr th {\n",
       "        vertical-align: top;\n",
       "    }\n",
       "\n",
       "    .dataframe thead th {\n",
       "        text-align: right;\n",
       "    }\n",
       "</style>\n",
       "<table border=\"1\" class=\"dataframe\">\n",
       "  <thead>\n",
       "    <tr style=\"text-align: right;\">\n",
       "      <th></th>\n",
       "      <th></th>\n",
       "      <th>age</th>\n",
       "    </tr>\n",
       "    <tr>\n",
       "      <th>occupation_v</th>\n",
       "      <th>is_overdue</th>\n",
       "      <th></th>\n",
       "    </tr>\n",
       "  </thead>\n",
       "  <tbody>\n",
       "    <tr>\n",
       "      <th rowspan=\"2\" valign=\"top\">Armed forces occupations</th>\n",
       "      <th>未逾期</th>\n",
       "      <td>31</td>\n",
       "    </tr>\n",
       "    <tr>\n",
       "      <th>逾期</th>\n",
       "      <td>8</td>\n",
       "    </tr>\n",
       "    <tr>\n",
       "      <th rowspan=\"2\" valign=\"top\">Clerical support workers</th>\n",
       "      <th>未逾期</th>\n",
       "      <td>286</td>\n",
       "    </tr>\n",
       "    <tr>\n",
       "      <th>逾期</th>\n",
       "      <td>72</td>\n",
       "    </tr>\n",
       "    <tr>\n",
       "      <th rowspan=\"2\" valign=\"top\">Craft and related trades workers</th>\n",
       "      <th>未逾期</th>\n",
       "      <td>85</td>\n",
       "    </tr>\n",
       "    <tr>\n",
       "      <th>逾期</th>\n",
       "      <td>21</td>\n",
       "    </tr>\n",
       "    <tr>\n",
       "      <th rowspan=\"2\" valign=\"top\">Elementary occupations</th>\n",
       "      <th>未逾期</th>\n",
       "      <td>47</td>\n",
       "    </tr>\n",
       "    <tr>\n",
       "      <th>逾期</th>\n",
       "      <td>5</td>\n",
       "    </tr>\n",
       "    <tr>\n",
       "      <th rowspan=\"2\" valign=\"top\">Managers</th>\n",
       "      <th>未逾期</th>\n",
       "      <td>1039</td>\n",
       "    </tr>\n",
       "    <tr>\n",
       "      <th>逾期</th>\n",
       "      <td>214</td>\n",
       "    </tr>\n",
       "    <tr>\n",
       "      <th rowspan=\"2\" valign=\"top\">Plant and machine operators, and assemblers</th>\n",
       "      <th>未逾期</th>\n",
       "      <td>146</td>\n",
       "    </tr>\n",
       "    <tr>\n",
       "      <th>逾期</th>\n",
       "      <td>31</td>\n",
       "    </tr>\n",
       "    <tr>\n",
       "      <th rowspan=\"2\" valign=\"top\">Professional</th>\n",
       "      <th>未逾期</th>\n",
       "      <td>1194</td>\n",
       "    </tr>\n",
       "    <tr>\n",
       "      <th>逾期</th>\n",
       "      <td>248</td>\n",
       "    </tr>\n",
       "    <tr>\n",
       "      <th rowspan=\"2\" valign=\"top\">Service and sales workers</th>\n",
       "      <th>未逾期</th>\n",
       "      <td>1556</td>\n",
       "    </tr>\n",
       "    <tr>\n",
       "      <th>逾期</th>\n",
       "      <td>357</td>\n",
       "    </tr>\n",
       "    <tr>\n",
       "      <th rowspan=\"2\" valign=\"top\">Skilled agricultural, forestry and fishery workers</th>\n",
       "      <th>未逾期</th>\n",
       "      <td>45</td>\n",
       "    </tr>\n",
       "    <tr>\n",
       "      <th>逾期</th>\n",
       "      <td>15</td>\n",
       "    </tr>\n",
       "    <tr>\n",
       "      <th rowspan=\"2\" valign=\"top\">Technicians and associate prefessionals</th>\n",
       "      <th>未逾期</th>\n",
       "      <td>359</td>\n",
       "    </tr>\n",
       "    <tr>\n",
       "      <th>逾期</th>\n",
       "      <td>71</td>\n",
       "    </tr>\n",
       "  </tbody>\n",
       "</table>\n",
       "</div>"
      ],
      "text/plain": [
       "                                                                age\n",
       "occupation_v                                       is_overdue      \n",
       "Armed forces occupations                           未逾期           31\n",
       "                                                   逾期             8\n",
       "Clerical support workers                           未逾期          286\n",
       "                                                   逾期            72\n",
       "Craft and related trades workers                   未逾期           85\n",
       "                                                   逾期            21\n",
       "Elementary occupations                             未逾期           47\n",
       "                                                   逾期             5\n",
       "Managers                                           未逾期         1039\n",
       "                                                   逾期           214\n",
       "Plant and machine operators, and assemblers        未逾期          146\n",
       "                                                   逾期            31\n",
       "Professional                                       未逾期         1194\n",
       "                                                   逾期           248\n",
       "Service and sales workers                          未逾期         1556\n",
       "                                                   逾期           357\n",
       "Skilled agricultural, forestry and fishery workers 未逾期           45\n",
       "                                                   逾期            15\n",
       "Technicians and associate prefessionals            未逾期          359\n",
       "                                                   逾期            71"
      ]
     },
     "execution_count": 39,
     "metadata": {},
     "output_type": "execute_result"
    }
   ],
   "source": [
    "# 不同职业的人的逾期情况\n",
    "occupation = pd.DataFrame(loaned.groupby(by = ['occupation_v','is_overdue']).aggregate(np.size).loc[:,'age'])\n",
    "occupation"
   ]
  },
  {
   "cell_type": "code",
   "execution_count": 40,
   "id": "9743387d-8b60-4dc3-8d7c-e635faeafe04",
   "metadata": {},
   "outputs": [
    {
     "data": {
      "text/html": [
       "<div>\n",
       "<style scoped>\n",
       "    .dataframe tbody tr th:only-of-type {\n",
       "        vertical-align: middle;\n",
       "    }\n",
       "\n",
       "    .dataframe tbody tr th {\n",
       "        vertical-align: top;\n",
       "    }\n",
       "\n",
       "    .dataframe thead th {\n",
       "        text-align: right;\n",
       "    }\n",
       "</style>\n",
       "<table border=\"1\" class=\"dataframe\">\n",
       "  <thead>\n",
       "    <tr style=\"text-align: right;\">\n",
       "      <th></th>\n",
       "      <th>occupation_v</th>\n",
       "      <th>is_overdue</th>\n",
       "      <th>age</th>\n",
       "    </tr>\n",
       "  </thead>\n",
       "  <tbody>\n",
       "    <tr>\n",
       "      <th>0</th>\n",
       "      <td>Armed forces occupations</td>\n",
       "      <td>未逾期</td>\n",
       "      <td>31</td>\n",
       "    </tr>\n",
       "    <tr>\n",
       "      <th>1</th>\n",
       "      <td>Armed forces occupations</td>\n",
       "      <td>逾期</td>\n",
       "      <td>8</td>\n",
       "    </tr>\n",
       "    <tr>\n",
       "      <th>2</th>\n",
       "      <td>Clerical support workers</td>\n",
       "      <td>未逾期</td>\n",
       "      <td>286</td>\n",
       "    </tr>\n",
       "    <tr>\n",
       "      <th>3</th>\n",
       "      <td>Clerical support workers</td>\n",
       "      <td>逾期</td>\n",
       "      <td>72</td>\n",
       "    </tr>\n",
       "    <tr>\n",
       "      <th>4</th>\n",
       "      <td>Craft and related trades workers</td>\n",
       "      <td>未逾期</td>\n",
       "      <td>85</td>\n",
       "    </tr>\n",
       "    <tr>\n",
       "      <th>5</th>\n",
       "      <td>Craft and related trades workers</td>\n",
       "      <td>逾期</td>\n",
       "      <td>21</td>\n",
       "    </tr>\n",
       "    <tr>\n",
       "      <th>6</th>\n",
       "      <td>Elementary occupations</td>\n",
       "      <td>未逾期</td>\n",
       "      <td>47</td>\n",
       "    </tr>\n",
       "    <tr>\n",
       "      <th>7</th>\n",
       "      <td>Elementary occupations</td>\n",
       "      <td>逾期</td>\n",
       "      <td>5</td>\n",
       "    </tr>\n",
       "    <tr>\n",
       "      <th>8</th>\n",
       "      <td>Managers</td>\n",
       "      <td>未逾期</td>\n",
       "      <td>1039</td>\n",
       "    </tr>\n",
       "    <tr>\n",
       "      <th>9</th>\n",
       "      <td>Managers</td>\n",
       "      <td>逾期</td>\n",
       "      <td>214</td>\n",
       "    </tr>\n",
       "    <tr>\n",
       "      <th>10</th>\n",
       "      <td>Plant and machine operators, and assemblers</td>\n",
       "      <td>未逾期</td>\n",
       "      <td>146</td>\n",
       "    </tr>\n",
       "    <tr>\n",
       "      <th>11</th>\n",
       "      <td>Plant and machine operators, and assemblers</td>\n",
       "      <td>逾期</td>\n",
       "      <td>31</td>\n",
       "    </tr>\n",
       "    <tr>\n",
       "      <th>12</th>\n",
       "      <td>Professional</td>\n",
       "      <td>未逾期</td>\n",
       "      <td>1194</td>\n",
       "    </tr>\n",
       "    <tr>\n",
       "      <th>13</th>\n",
       "      <td>Professional</td>\n",
       "      <td>逾期</td>\n",
       "      <td>248</td>\n",
       "    </tr>\n",
       "    <tr>\n",
       "      <th>14</th>\n",
       "      <td>Service and sales workers</td>\n",
       "      <td>未逾期</td>\n",
       "      <td>1556</td>\n",
       "    </tr>\n",
       "    <tr>\n",
       "      <th>15</th>\n",
       "      <td>Service and sales workers</td>\n",
       "      <td>逾期</td>\n",
       "      <td>357</td>\n",
       "    </tr>\n",
       "    <tr>\n",
       "      <th>16</th>\n",
       "      <td>Skilled agricultural, forestry and fishery wor...</td>\n",
       "      <td>未逾期</td>\n",
       "      <td>45</td>\n",
       "    </tr>\n",
       "    <tr>\n",
       "      <th>17</th>\n",
       "      <td>Skilled agricultural, forestry and fishery wor...</td>\n",
       "      <td>逾期</td>\n",
       "      <td>15</td>\n",
       "    </tr>\n",
       "    <tr>\n",
       "      <th>18</th>\n",
       "      <td>Technicians and associate prefessionals</td>\n",
       "      <td>未逾期</td>\n",
       "      <td>359</td>\n",
       "    </tr>\n",
       "    <tr>\n",
       "      <th>19</th>\n",
       "      <td>Technicians and associate prefessionals</td>\n",
       "      <td>逾期</td>\n",
       "      <td>71</td>\n",
       "    </tr>\n",
       "  </tbody>\n",
       "</table>\n",
       "</div>"
      ],
      "text/plain": [
       "                                         occupation_v is_overdue   age\n",
       "0                            Armed forces occupations        未逾期    31\n",
       "1                            Armed forces occupations         逾期     8\n",
       "2                            Clerical support workers        未逾期   286\n",
       "3                            Clerical support workers         逾期    72\n",
       "4                    Craft and related trades workers        未逾期    85\n",
       "5                    Craft and related trades workers         逾期    21\n",
       "6                              Elementary occupations        未逾期    47\n",
       "7                              Elementary occupations         逾期     5\n",
       "8                                            Managers        未逾期  1039\n",
       "9                                            Managers         逾期   214\n",
       "10        Plant and machine operators, and assemblers        未逾期   146\n",
       "11        Plant and machine operators, and assemblers         逾期    31\n",
       "12                                       Professional        未逾期  1194\n",
       "13                                       Professional         逾期   248\n",
       "14                          Service and sales workers        未逾期  1556\n",
       "15                          Service and sales workers         逾期   357\n",
       "16  Skilled agricultural, forestry and fishery wor...        未逾期    45\n",
       "17  Skilled agricultural, forestry and fishery wor...         逾期    15\n",
       "18            Technicians and associate prefessionals        未逾期   359\n",
       "19            Technicians and associate prefessionals         逾期    71"
      ]
     },
     "execution_count": 40,
     "metadata": {},
     "output_type": "execute_result"
    }
   ],
   "source": [
    "occupation = occupation.reset_index()\n",
    "occupation"
   ]
  },
  {
   "cell_type": "code",
   "execution_count": 41,
   "id": "ebe6710f-5c4f-480e-940e-cf3917af2b4f",
   "metadata": {},
   "outputs": [],
   "source": [
    "occupation.rename(columns={'age':'counts'}, inplace=True)"
   ]
  },
  {
   "cell_type": "code",
   "execution_count": 42,
   "id": "fca82988-fb2e-4bb3-b34f-9c6d1b54d56c",
   "metadata": {
    "scrolled": true
   },
   "outputs": [
    {
     "data": {
      "text/html": [
       "<div>\n",
       "<style scoped>\n",
       "    .dataframe tbody tr th:only-of-type {\n",
       "        vertical-align: middle;\n",
       "    }\n",
       "\n",
       "    .dataframe tbody tr th {\n",
       "        vertical-align: top;\n",
       "    }\n",
       "\n",
       "    .dataframe thead th {\n",
       "        text-align: right;\n",
       "    }\n",
       "</style>\n",
       "<table border=\"1\" class=\"dataframe\">\n",
       "  <thead>\n",
       "    <tr style=\"text-align: right;\">\n",
       "      <th></th>\n",
       "      <th>occupation_v</th>\n",
       "      <th>is_overdue</th>\n",
       "      <th>counts</th>\n",
       "    </tr>\n",
       "  </thead>\n",
       "  <tbody>\n",
       "    <tr>\n",
       "      <th>0</th>\n",
       "      <td>Armed forces occupations</td>\n",
       "      <td>未逾期</td>\n",
       "      <td>31</td>\n",
       "    </tr>\n",
       "    <tr>\n",
       "      <th>1</th>\n",
       "      <td>Armed forces occupations</td>\n",
       "      <td>逾期</td>\n",
       "      <td>8</td>\n",
       "    </tr>\n",
       "    <tr>\n",
       "      <th>2</th>\n",
       "      <td>Clerical support workers</td>\n",
       "      <td>未逾期</td>\n",
       "      <td>286</td>\n",
       "    </tr>\n",
       "    <tr>\n",
       "      <th>3</th>\n",
       "      <td>Clerical support workers</td>\n",
       "      <td>逾期</td>\n",
       "      <td>72</td>\n",
       "    </tr>\n",
       "    <tr>\n",
       "      <th>4</th>\n",
       "      <td>Craft and related trades workers</td>\n",
       "      <td>未逾期</td>\n",
       "      <td>85</td>\n",
       "    </tr>\n",
       "    <tr>\n",
       "      <th>5</th>\n",
       "      <td>Craft and related trades workers</td>\n",
       "      <td>逾期</td>\n",
       "      <td>21</td>\n",
       "    </tr>\n",
       "    <tr>\n",
       "      <th>6</th>\n",
       "      <td>Elementary occupations</td>\n",
       "      <td>未逾期</td>\n",
       "      <td>47</td>\n",
       "    </tr>\n",
       "    <tr>\n",
       "      <th>7</th>\n",
       "      <td>Elementary occupations</td>\n",
       "      <td>逾期</td>\n",
       "      <td>5</td>\n",
       "    </tr>\n",
       "    <tr>\n",
       "      <th>8</th>\n",
       "      <td>Managers</td>\n",
       "      <td>未逾期</td>\n",
       "      <td>1039</td>\n",
       "    </tr>\n",
       "    <tr>\n",
       "      <th>9</th>\n",
       "      <td>Managers</td>\n",
       "      <td>逾期</td>\n",
       "      <td>214</td>\n",
       "    </tr>\n",
       "    <tr>\n",
       "      <th>10</th>\n",
       "      <td>Plant and machine operators, and assemblers</td>\n",
       "      <td>未逾期</td>\n",
       "      <td>146</td>\n",
       "    </tr>\n",
       "    <tr>\n",
       "      <th>11</th>\n",
       "      <td>Plant and machine operators, and assemblers</td>\n",
       "      <td>逾期</td>\n",
       "      <td>31</td>\n",
       "    </tr>\n",
       "    <tr>\n",
       "      <th>12</th>\n",
       "      <td>Professional</td>\n",
       "      <td>未逾期</td>\n",
       "      <td>1194</td>\n",
       "    </tr>\n",
       "    <tr>\n",
       "      <th>13</th>\n",
       "      <td>Professional</td>\n",
       "      <td>逾期</td>\n",
       "      <td>248</td>\n",
       "    </tr>\n",
       "    <tr>\n",
       "      <th>14</th>\n",
       "      <td>Service and sales workers</td>\n",
       "      <td>未逾期</td>\n",
       "      <td>1556</td>\n",
       "    </tr>\n",
       "    <tr>\n",
       "      <th>15</th>\n",
       "      <td>Service and sales workers</td>\n",
       "      <td>逾期</td>\n",
       "      <td>357</td>\n",
       "    </tr>\n",
       "    <tr>\n",
       "      <th>16</th>\n",
       "      <td>Skilled agricultural, forestry and fishery wor...</td>\n",
       "      <td>未逾期</td>\n",
       "      <td>45</td>\n",
       "    </tr>\n",
       "    <tr>\n",
       "      <th>17</th>\n",
       "      <td>Skilled agricultural, forestry and fishery wor...</td>\n",
       "      <td>逾期</td>\n",
       "      <td>15</td>\n",
       "    </tr>\n",
       "    <tr>\n",
       "      <th>18</th>\n",
       "      <td>Technicians and associate prefessionals</td>\n",
       "      <td>未逾期</td>\n",
       "      <td>359</td>\n",
       "    </tr>\n",
       "    <tr>\n",
       "      <th>19</th>\n",
       "      <td>Technicians and associate prefessionals</td>\n",
       "      <td>逾期</td>\n",
       "      <td>71</td>\n",
       "    </tr>\n",
       "  </tbody>\n",
       "</table>\n",
       "</div>"
      ],
      "text/plain": [
       "                                         occupation_v is_overdue  counts\n",
       "0                            Armed forces occupations        未逾期      31\n",
       "1                            Armed forces occupations         逾期       8\n",
       "2                            Clerical support workers        未逾期     286\n",
       "3                            Clerical support workers         逾期      72\n",
       "4                    Craft and related trades workers        未逾期      85\n",
       "5                    Craft and related trades workers         逾期      21\n",
       "6                              Elementary occupations        未逾期      47\n",
       "7                              Elementary occupations         逾期       5\n",
       "8                                            Managers        未逾期    1039\n",
       "9                                            Managers         逾期     214\n",
       "10        Plant and machine operators, and assemblers        未逾期     146\n",
       "11        Plant and machine operators, and assemblers         逾期      31\n",
       "12                                       Professional        未逾期    1194\n",
       "13                                       Professional         逾期     248\n",
       "14                          Service and sales workers        未逾期    1556\n",
       "15                          Service and sales workers         逾期     357\n",
       "16  Skilled agricultural, forestry and fishery wor...        未逾期      45\n",
       "17  Skilled agricultural, forestry and fishery wor...         逾期      15\n",
       "18            Technicians and associate prefessionals        未逾期     359\n",
       "19            Technicians and associate prefessionals         逾期      71"
      ]
     },
     "execution_count": 42,
     "metadata": {},
     "output_type": "execute_result"
    }
   ],
   "source": [
    "occupation"
   ]
  },
  {
   "cell_type": "code",
   "execution_count": 43,
   "id": "3a2c394e-579c-42dc-9c61-19c16ef1ecb8",
   "metadata": {},
   "outputs": [
    {
     "data": {
      "image/png": "[encoded data removed]",
      "text/plain": [
       "<Figure size 900x500 with 1 Axes>"
      ]
     },
     "metadata": {},
     "output_type": "display_data"
    }
   ],
   "source": [
    "import seaborn as sns\n",
    "plt.figure(figsize=(9,5))\n",
    "sns.barplot(y=\"occupation_v\", x=\"counts\", hue = 'is_overdue', data=occupation)\n",
    "plt.rcParams['font.sans-serif'] = ['SimHei']\n",
    "plt.show()"
   ]
  },
  {
   "cell_type": "markdown",
   "id": "032cce2a-40bf-4d4a-bdaa-525e11cc5276",
   "metadata": {},
   "source": [
    "# 三、数据建模"
   ]
  },
  {
   "cell_type": "markdown",
   "id": "80f2faef-ce30-4358-8f60-ab54ee7fca45",
   "metadata": {},
   "source": [
    "## 3.1 对离散变量进行编码"
   ]
  },
  {
   "cell_type": "code",
   "execution_count": 25,
   "id": "f81d28ad-b0c8-449c-9cd6-981298c1786a",
   "metadata": {},
   "outputs": [
    {
     "data": {
      "text/html": [
       "<div>\n",
       "<style scoped>\n",
       "    .dataframe tbody tr th:only-of-type {\n",
       "        vertical-align: middle;\n",
       "    }\n",
       "\n",
       "    .dataframe tbody tr th {\n",
       "        vertical-align: top;\n",
       "    }\n",
       "\n",
       "    .dataframe thead th {\n",
       "        text-align: right;\n",
       "    }\n",
       "</style>\n",
       "<table border=\"1\" class=\"dataframe\">\n",
       "  <thead>\n",
       "    <tr style=\"text-align: right;\">\n",
       "      <th></th>\n",
       "      <th>is_overdue</th>\n",
       "      <th>age</th>\n",
       "      <th>gender_v</th>\n",
       "      <th>education_v</th>\n",
       "      <th>marriage_v</th>\n",
       "      <th>live_state</th>\n",
       "      <th>residence_type_v</th>\n",
       "      <th>employ_stat_v</th>\n",
       "      <th>occupation_v</th>\n",
       "      <th>mon_salary_v</th>\n",
       "      <th>...</th>\n",
       "      <th>cont_list_no</th>\n",
       "      <th>ap_pd30d</th>\n",
       "      <th>ap_long90d</th>\n",
       "      <th>ap_loanal</th>\n",
       "      <th>cd_score</th>\n",
       "      <th>cd_open_acct</th>\n",
       "      <th>cd_ovdu_acct</th>\n",
       "      <th>cd_ovdu_amt</th>\n",
       "      <th>cd_ovdu_tms</th>\n",
       "      <th>cd_tot_bal</th>\n",
       "    </tr>\n",
       "  </thead>\n",
       "  <tbody>\n",
       "    <tr>\n",
       "      <th>0</th>\n",
       "      <td>0</td>\n",
       "      <td>27.0</td>\n",
       "      <td>1</td>\n",
       "      <td>4</td>\n",
       "      <td>2</td>\n",
       "      <td>10010000</td>\n",
       "      <td>2</td>\n",
       "      <td>2</td>\n",
       "      <td>7</td>\n",
       "      <td>75000</td>\n",
       "      <td>...</td>\n",
       "      <td>448.0</td>\n",
       "      <td>7.0</td>\n",
       "      <td>5.0</td>\n",
       "      <td>12.0</td>\n",
       "      <td>741.0</td>\n",
       "      <td>2.0</td>\n",
       "      <td>0.0</td>\n",
       "      <td>0.0</td>\n",
       "      <td>0.0</td>\n",
       "      <td>19791.0</td>\n",
       "    </tr>\n",
       "    <tr>\n",
       "      <th>4</th>\n",
       "      <td>0</td>\n",
       "      <td>21.0</td>\n",
       "      <td>1</td>\n",
       "      <td>4</td>\n",
       "      <td>2</td>\n",
       "      <td>10300000</td>\n",
       "      <td>2</td>\n",
       "      <td>1</td>\n",
       "      <td>7</td>\n",
       "      <td>12500</td>\n",
       "      <td>...</td>\n",
       "      <td>311.0</td>\n",
       "      <td>3.0</td>\n",
       "      <td>2.0</td>\n",
       "      <td>5.0</td>\n",
       "      <td>647.0</td>\n",
       "      <td>2.0</td>\n",
       "      <td>1.0</td>\n",
       "      <td>1150.0</td>\n",
       "      <td>1.0</td>\n",
       "      <td>1000.0</td>\n",
       "    </tr>\n",
       "    <tr>\n",
       "      <th>17</th>\n",
       "      <td>0</td>\n",
       "      <td>28.0</td>\n",
       "      <td>1</td>\n",
       "      <td>0</td>\n",
       "      <td>1</td>\n",
       "      <td>10080000</td>\n",
       "      <td>4</td>\n",
       "      <td>2</td>\n",
       "      <td>4</td>\n",
       "      <td>75000</td>\n",
       "      <td>...</td>\n",
       "      <td>75.0</td>\n",
       "      <td>3.0</td>\n",
       "      <td>2.0</td>\n",
       "      <td>5.0</td>\n",
       "      <td>769.0</td>\n",
       "      <td>0.0</td>\n",
       "      <td>0.0</td>\n",
       "      <td>0.0</td>\n",
       "      <td>0.0</td>\n",
       "      <td>0.0</td>\n",
       "    </tr>\n",
       "    <tr>\n",
       "      <th>23</th>\n",
       "      <td>1</td>\n",
       "      <td>27.0</td>\n",
       "      <td>1</td>\n",
       "      <td>1</td>\n",
       "      <td>1</td>\n",
       "      <td>10280000</td>\n",
       "      <td>3</td>\n",
       "      <td>2</td>\n",
       "      <td>4</td>\n",
       "      <td>17500</td>\n",
       "      <td>...</td>\n",
       "      <td>292.0</td>\n",
       "      <td>1.0</td>\n",
       "      <td>1.0</td>\n",
       "      <td>3.0</td>\n",
       "      <td>649.0</td>\n",
       "      <td>4.0</td>\n",
       "      <td>0.0</td>\n",
       "      <td>0.0</td>\n",
       "      <td>0.0</td>\n",
       "      <td>1789795.0</td>\n",
       "    </tr>\n",
       "    <tr>\n",
       "      <th>27</th>\n",
       "      <td>0</td>\n",
       "      <td>27.0</td>\n",
       "      <td>1</td>\n",
       "      <td>1</td>\n",
       "      <td>2</td>\n",
       "      <td>10200000</td>\n",
       "      <td>2</td>\n",
       "      <td>1</td>\n",
       "      <td>5</td>\n",
       "      <td>17500</td>\n",
       "      <td>...</td>\n",
       "      <td>408.0</td>\n",
       "      <td>3.0</td>\n",
       "      <td>0.0</td>\n",
       "      <td>5.0</td>\n",
       "      <td>6.0</td>\n",
       "      <td>1.0</td>\n",
       "      <td>0.0</td>\n",
       "      <td>0.0</td>\n",
       "      <td>0.0</td>\n",
       "      <td>11100.0</td>\n",
       "    </tr>\n",
       "  </tbody>\n",
       "</table>\n",
       "<p>5 rows × 21 columns</p>\n",
       "</div>"
      ],
      "text/plain": [
       "    is_overdue   age  gender_v  education_v  marriage_v  live_state  \\\n",
       "0            0  27.0         1            4           2    10010000   \n",
       "4            0  21.0         1            4           2    10300000   \n",
       "17           0  28.0         1            0           1    10080000   \n",
       "23           1  27.0         1            1           1    10280000   \n",
       "27           0  27.0         1            1           2    10200000   \n",
       "\n",
       "    residence_type_v  employ_stat_v  occupation_v  mon_salary_v  ...  \\\n",
       "0                  2              2             7         75000  ...   \n",
       "4                  2              1             7         12500  ...   \n",
       "17                 4              2             4         75000  ...   \n",
       "23                 3              2             4         17500  ...   \n",
       "27                 2              1             5         17500  ...   \n",
       "\n",
       "    cont_list_no  ap_pd30d  ap_long90d  ap_loanal  cd_score  cd_open_acct  \\\n",
       "0          448.0       7.0         5.0       12.0     741.0           2.0   \n",
       "4          311.0       3.0         2.0        5.0     647.0           2.0   \n",
       "17          75.0       3.0         2.0        5.0     769.0           0.0   \n",
       "23         292.0       1.0         1.0        3.0     649.0           4.0   \n",
       "27         408.0       3.0         0.0        5.0       6.0           1.0   \n",
       "\n",
       "    cd_ovdu_acct  cd_ovdu_amt  cd_ovdu_tms  cd_tot_bal  \n",
       "0            0.0          0.0          0.0     19791.0  \n",
       "4            1.0       1150.0          1.0      1000.0  \n",
       "17           0.0          0.0          0.0         0.0  \n",
       "23           0.0          0.0          0.0   1789795.0  \n",
       "27           0.0          0.0          0.0     11100.0  \n",
       "\n",
       "[5 rows x 21 columns]"
      ]
     },
     "execution_count": 25,
     "metadata": {},
     "output_type": "execute_result"
    }
   ],
   "source": [
    "for feature in loaned.columns:\n",
    "    if loaned[feature].dtype == 'object':\n",
    "        loaned[feature] = pd.Categorical(loaned[feature]).codes\n",
    "loaned.head()"
   ]
  },
  {
   "cell_type": "code",
   "execution_count": null,
   "id": "4de2f56d-3359-4ed1-bdee-e91fb2e55b50",
   "metadata": {},
   "outputs": [],
   "source": [
    "loaned.dtypes"
   ]
  },
  {
   "cell_type": "markdown",
   "id": "b9fd6759-43c3-4986-940f-02dda1a5268a",
   "metadata": {},
   "source": [
    "## 3.2 拆分数据集"
   ]
  },
  {
   "cell_type": "code",
   "execution_count": 26,
   "id": "bbcd310f-a214-40d0-ade0-5e02f9e10942",
   "metadata": {},
   "outputs": [
    {
     "name": "stdout",
     "output_type": "stream",
     "text": [
      "训练数据集共有4372条观测\n",
      "测试数据集共有1458条观测\n"
     ]
    }
   ],
   "source": [
    "from sklearn.model_selection import train_test_split\n",
    "X_train, X_test, y_train, y_test = train_test_split(loaned.loc[:,'age':'cd_tot_bal'], \n",
    "                                                    loaned['is_overdue'], train_size = 0.75, \n",
    "                                                    random_state = 1234)\n",
    "print('训练数据集共有%d条观测' %X_train.shape[0])\n",
    "print('测试数据集共有%d条观测' %X_test.shape[0])"
   ]
  },
  {
   "cell_type": "markdown",
   "id": "77399f4d-e4fd-4cc0-9c6b-f72b29b484a5",
   "metadata": {},
   "source": [
    "## 3.3模型构建"
   ]
  },
  {
   "cell_type": "markdown",
   "id": "bfb793ae-5f90-4ef7-a7c1-55ab39a20bf1",
   "metadata": {},
   "source": [
    "### 3.3.1 默认的K近邻模型"
   ]
  },
  {
   "cell_type": "code",
   "execution_count": 46,
   "id": "d6dcdcbb-28bd-4cc8-bfdb-fa2a4722d63b",
   "metadata": {},
   "outputs": [
    {
     "name": "stdout",
     "output_type": "stream",
     "text": [
      "KNeighborsClassifier()\n"
     ]
    }
   ],
   "source": [
    "from sklearn.neighbors import KNeighborsClassifier\n",
    "# 构建k近邻模型\n",
    "kn = KNeighborsClassifier()\n",
    "kn.fit(X_train, y_train)\n",
    "print(kn)"
   ]
  },
  {
   "cell_type": "code",
   "execution_count": 47,
   "id": "b179501d-6ac2-493a-af09-d7d718c4c121",
   "metadata": {},
   "outputs": [
    {
     "name": "stdout",
     "output_type": "stream",
     "text": [
      "is_overdue     0    1\n",
      "row_0                \n",
      "0           1154  208\n",
      "1             67   29\n"
     ]
    }
   ],
   "source": [
    "kn_pred = kn.predict(X_test)\n",
    "print(pd.crosstab(kn_pred, y_test))"
   ]
  },
  {
   "cell_type": "code",
   "execution_count": 48,
   "id": "cfe04cd4-7747-4856-a8c2-491075bb3254",
   "metadata": {},
   "outputs": [
    {
     "name": "stdout",
     "output_type": "stream",
     "text": [
      "模型在训练集上的准确率0.836002\n",
      "模型在测试集上的准确率0.811385\n"
     ]
    }
   ],
   "source": [
    "print('模型在训练集上的准确率%f' %kn.score(X_train,y_train))\n",
    "print('模型在测试集上的准确率%f' %kn.score(X_test,y_test))"
   ]
  },
  {
   "cell_type": "code",
   "execution_count": 49,
   "id": "d0f388d3-e351-48c4-9d5d-1314adbc7ee1",
   "metadata": {},
   "outputs": [
    {
     "data": {
      "image/png": "[encoded data removed]",
      "text/plain": [
       "<Figure size 640x480 with 1 Axes>"
      ]
     },
     "metadata": {},
     "output_type": "display_data"
    }
   ],
   "source": [
    "# # 导入模型评估模块\n",
    "from sklearn import metrics\n",
    "\n",
    "# 计算ROC曲线的x轴和y轴数据\n",
    "fpr, tpr, _ = metrics.roc_curve(y_test, kn.predict_proba(X_test)[:,1])\n",
    "# 绘制ROC曲线\n",
    "plt.plot(fpr, tpr, linestyle = 'solid', color = 'yellow')\n",
    "# 添加阴影\n",
    "plt.stackplot(fpr, tpr, color = 'steelblue')\n",
    "# 绘制参考线\n",
    "plt.plot([0,1],[0,1], linestyle = 'dashed', color = 'black')\n",
    "# 往图中添加文本\n",
    "plt.text(0.6,0.4,'AUC=%.3f' % metrics.auc(fpr,tpr))\n",
    "plt.show()"
   ]
  },
  {
   "cell_type": "markdown",
   "id": "b282725d-e791-46bb-ad02-0c9f9ca43a48",
   "metadata": {},
   "source": [
    "### 3.3.2 默认的GBDT模型"
   ]
  },
  {
   "cell_type": "code",
   "execution_count": 50,
   "id": "7b5bb5f0-ce29-4555-a3d3-33eb8752778c",
   "metadata": {},
   "outputs": [
    {
     "name": "stdout",
     "output_type": "stream",
     "text": [
      "GradientBoostingClassifier()\n"
     ]
    }
   ],
   "source": [
    "# 导入GBDT模型的类\n",
    "from sklearn.ensemble import GradientBoostingClassifier\n",
    "# 构建GBDT模型\n",
    "gbdt = GradientBoostingClassifier()\n",
    "gbdt.fit(X_train, y_train)\n",
    "print(gbdt)"
   ]
  },
  {
   "cell_type": "code",
   "execution_count": 51,
   "id": "dbccdae2-3d40-4743-81e5-cbbff9fae89b",
   "metadata": {},
   "outputs": [
    {
     "name": "stdout",
     "output_type": "stream",
     "text": [
      "is_overdue     0    1\n",
      "row_0                \n",
      "0           1205  227\n",
      "1             16   10\n"
     ]
    }
   ],
   "source": [
    "# 预测测试集\n",
    "gbdt_pred = gbdt.predict(X_test)\n",
    "print(pd.crosstab(gbdt_pred, y_test))"
   ]
  },
  {
   "cell_type": "code",
   "execution_count": 52,
   "id": "c6249cd7-fb56-4bc2-8940-1aaee3264052",
   "metadata": {},
   "outputs": [
    {
     "name": "stdout",
     "output_type": "stream",
     "text": [
      "模型在训练集上的准确率0.842406\n",
      "模型在测试集上的准确率0.833333\n"
     ]
    }
   ],
   "source": [
    "# 模型得分\n",
    "print('模型在训练集上的准确率%f' %gbdt.score(X_train,y_train))\n",
    "print('模型在测试集上的准确率%f' %gbdt.score(X_test,y_test))"
   ]
  },
  {
   "cell_type": "code",
   "execution_count": 53,
   "id": "b4c36adb-e3cf-4932-ae7c-5dd4b63ff760",
   "metadata": {},
   "outputs": [
    {
     "data": {
      "image/png": "[encoded data removed]",
      "text/plain": [
       "<Figure size 640x480 with 1 Axes>"
      ]
     },
     "metadata": {},
     "output_type": "display_data"
    }
   ],
   "source": [
    "# 绘制ROC曲线\n",
    "fpr, tpr, _ = metrics.roc_curve(y_test, gbdt.predict_proba(X_test)[:,1])\n",
    "plt.plot(fpr, tpr, linestyle = 'solid', color = 'red')\n",
    "plt.stackplot(fpr, tpr, color = 'steelblue')\n",
    "plt.plot([0,1],[0,1], linestyle = 'dashed', color = 'black')\n",
    "plt.text(0.6,0.4,'AUC=%.3f' % metrics.auc(fpr,tpr), fontdict = dict(size = 18))\n",
    "plt.show()"
   ]
  },
  {
   "cell_type": "markdown",
   "id": "8b14772e-d27f-4d39-b281-8a2188fcd02d",
   "metadata": {},
   "source": [
    "### 3.3.3 默认的XGBboost分类模型"
   ]
  },
  {
   "cell_type": "code",
   "execution_count": 43,
   "id": "cfdd5169-b16e-4e53-83ee-363dafd86f5c",
   "metadata": {},
   "outputs": [
    {
     "name": "stdout",
     "output_type": "stream",
     "text": [
      "is_overdue     0    1\n",
      "row_0                \n",
      "0           1145  182\n",
      "1             76   55\n",
      "模型在训练集上的准确率1.000000\n",
      "模型在测试集上的准确率0.823045\n"
     ]
    },
    {
     "data": {
      "image/png": "[encoded data removed]",
      "text/plain": [
       "<Figure size 640x480 with 1 Axes>"
      ]
     },
     "metadata": {},
     "output_type": "display_data"
    }
   ],
   "source": [
    "from xgboost import XGBClassifier\n",
    "from sklearn import metrics\n",
    "xgboost = XGBClassifier(objective='reg:logistic',n_estimators=1000)\n",
    "xgboost.fit(X_train, y_train)\n",
    "xgboost_pred = xgboost.predict(X_test)\n",
    "print(pd.crosstab(xgboost_pred, y_test))\n",
    "print('模型在训练集上的准确率%f' % xgboost.score(X_train, y_train))\n",
    "print('模型在测试集上的准确率%f' % xgboost.score(X_test, y_test))\n",
    "# 绘制ROC曲线  \n",
    "fpr, tpr, _ = metrics.roc_curve(y_test, xgboost.predict_proba(X_test)[:, 1])\n",
    "plt.plot(fpr, tpr, linestyle='solid', color='red')\n",
    "plt.stackplot(fpr, tpr, color='steelblue')\n",
    "plt.plot([0, 1], [0, 1], linestyle='dashed', color='black')\n",
    "plt.text(0.6, 0.4, 'AUC=%.3f' % metrics.auc(fpr, tpr), fontdict=dict(size=18))\n",
    "plt.show()"
   ]
  },
  {
   "cell_type": "markdown",
   "id": "dbe1b6e2-55b6-40da-a02d-b10e83af30b1",
   "metadata": {},
   "source": [
    "# 四、模型网格搜索"
   ]
  },
  {
   "cell_type": "markdown",
   "id": "77b226bc-b16e-4df7-bdaa-63f9db3f0ae0",
   "metadata": {
    "jp-MarkdownHeadingCollapsed": true
   },
   "source": [
    "## 4.1 网格搜索的最优K近邻模型"
   ]
  },
  {
   "cell_type": "code",
   "execution_count": 55,
   "id": "3b0b0c7a-7e1f-47ce-b269-67588cd34528",
   "metadata": {},
   "outputs": [
    {
     "name": "stdout",
     "output_type": "stream",
     "text": [
      "GridSearchCV(cv=10, estimator=KNeighborsClassifier(), n_jobs=2,\n",
      "             param_grid={'n_neighbors': [1, 2, 3, 4, 5, 6, 7, 8, 9, 10, 11]},\n",
      "             scoring='accuracy')\n",
      "{'n_neighbors': 10} 0.8117572071930871\n"
     ]
    }
   ],
   "source": [
    "# K近邻模型的网格搜索法\n",
    "# 导入网格搜索法的函数\n",
    "from sklearn.model_selection import GridSearchCV\n",
    "# 选择不同的参数\n",
    "k_options = list(range(1,12))\n",
    "parameters = {'n_neighbors':k_options}\n",
    "# 搜索不同的K值\n",
    "grid_kn = GridSearchCV(estimator = KNeighborsClassifier(), param_grid = parameters, cv=10, scoring='accuracy', verbose=0, n_jobs=2)\n",
    "# GridSearchCV函数中的几个参数含义:\n",
    "# estimator参数接受一个指定的模型，这里为K近邻模型的类；\n",
    "# param_grid用来指定模型需要搜索的参数列表对象，这里是K近邻模型中n_neighbors参数的11种可能值；\n",
    "# cv是指网格搜索需要经过10重交叉验证；\n",
    "# scoring指定模型评估的度量值，这里选用的是模型预测的准确率\n",
    "grid_kn.fit(X_train, y_train)\n",
    "print(grid_kn)\n",
    "# 结果输出\n",
    "print(grid_kn.best_params_,grid_kn.best_score_)"
   ]
  },
  {
   "cell_type": "code",
   "execution_count": 56,
   "id": "3be4f9df-9b40-4278-8d24-9c95e5ea71d4",
   "metadata": {},
   "outputs": [
    {
     "name": "stdout",
     "output_type": "stream",
     "text": [
      "is_overdue     0    1\n",
      "row_0                \n",
      "0           1214  230\n",
      "1              7    7\n"
     ]
    }
   ],
   "source": [
    "# 预测测试集\n",
    "grid_kn_pred = grid_kn.predict(X_test)\n",
    "print(pd.crosstab(grid_kn_pred, y_test))"
   ]
  },
  {
   "cell_type": "code",
   "execution_count": 57,
   "id": "7479b8a2-baed-4d15-9bd2-c0f3e55304cb",
   "metadata": {},
   "outputs": [
    {
     "name": "stdout",
     "output_type": "stream",
     "text": [
      "模型在训练集上的准确率0.819991\n",
      "模型在测试集上的准确率0.837449\n"
     ]
    }
   ],
   "source": [
    "# 模型得分\n",
    "print('模型在训练集上的准确率%f' %grid_kn.score(X_train,y_train))\n",
    "print('模型在测试集上的准确率%f' %grid_kn.score(X_test,y_test))"
   ]
  },
  {
   "cell_type": "code",
   "execution_count": 58,
   "id": "6c48245e-1a1a-4953-9bce-ec4cb6be9464",
   "metadata": {},
   "outputs": [
    {
     "data": {
      "text/plain": [
       "array([[0.8, 0.2],\n",
       "       [0.7, 0.3],\n",
       "       [0.9, 0.1],\n",
       "       ...,\n",
       "       [0.9, 0.1],\n",
       "       [0.8, 0.2],\n",
       "       [0.8, 0.2]])"
      ]
     },
     "execution_count": 58,
     "metadata": {},
     "output_type": "execute_result"
    }
   ],
   "source": [
    "grid_kn.predict_proba(X_test)"
   ]
  },
  {
   "cell_type": "markdown",
   "id": "dfce1b03-af86-404b-a46c-3e83cf3ef723",
   "metadata": {
    "jp-MarkdownHeadingCollapsed": true
   },
   "source": [
    "## 4.2 网格搜索的最优GBDT模型"
   ]
  },
  {
   "cell_type": "code",
   "execution_count": 59,
   "id": "e97d144b-ac81-4587-b5fb-d39495af4607",
   "metadata": {},
   "outputs": [
    {
     "name": "stdout",
     "output_type": "stream",
     "text": [
      "{'mean_fit_time': array([1.0157542 , 3.47709491, 4.37413414, 0.77891593, 2.35769563,\n",
      "       3.99595335, 0.80888116, 2.38124506, 4.59681959]), 'std_fit_time': array([0.08940709, 0.25264589, 0.42367717, 0.08282681, 0.11734828,\n",
      "       0.30551953, 0.07421566, 0.12750784, 0.42075803]), 'mean_score_time': array([0.00065513, 0.00090492, 0.00898926, 0.00505311, 0.0026752 ,\n",
      "       0.00702868, 0.00304096, 0.00188637, 0.01117139]), 'std_score_time': array([0.00162856, 0.00193157, 0.00759369, 0.00644851, 0.0053643 ,\n",
      "       0.00655498, 0.00499306, 0.00412277, 0.00570357]), 'param_learning_rate': masked_array(data=[0.01, 0.01, 0.01, 0.03, 0.03, 0.03, 0.05, 0.05, 0.05],\n",
      "             mask=[False, False, False, False, False, False, False, False,\n",
      "                   False],\n",
      "       fill_value='?',\n",
      "            dtype=object), 'param_n_estimators': masked_array(data=[100, 300, 500, 100, 300, 500, 100, 300, 500],\n",
      "             mask=[False, False, False, False, False, False, False, False,\n",
      "                   False],\n",
      "       fill_value='?',\n",
      "            dtype=object), 'params': [{'learning_rate': 0.01, 'n_estimators': 100}, {'learning_rate': 0.01, 'n_estimators': 300}, {'learning_rate': 0.01, 'n_estimators': 500}, {'learning_rate': 0.03, 'n_estimators': 100}, {'learning_rate': 0.03, 'n_estimators': 300}, {'learning_rate': 0.03, 'n_estimators': 500}, {'learning_rate': 0.05, 'n_estimators': 100}, {'learning_rate': 0.05, 'n_estimators': 300}, {'learning_rate': 0.05, 'n_estimators': 500}], 'split0_test_score': array([0.81506849, 0.82420091, 0.83333333, 0.82648402, 0.83561644,\n",
      "       0.82876712, 0.83333333, 0.83105023, 0.82648402]), 'split1_test_score': array([0.81506849, 0.8173516 , 0.81278539, 0.8173516 , 0.81278539,\n",
      "       0.79908676, 0.81278539, 0.80365297, 0.79908676]), 'split2_test_score': array([0.81693364, 0.81693364, 0.81922197, 0.81922197, 0.82608696,\n",
      "       0.81693364, 0.81693364, 0.81464531, 0.81693364]), 'split3_test_score': array([0.81693364, 0.82608696, 0.82379863, 0.82608696, 0.8215103 ,\n",
      "       0.82837529, 0.82379863, 0.82608696, 0.83524027]), 'split4_test_score': array([0.81693364, 0.81693364, 0.8215103 , 0.81693364, 0.8215103 ,\n",
      "       0.82379863, 0.81922197, 0.82379863, 0.81922197]), 'split5_test_score': array([0.81693364, 0.81922197, 0.82379863, 0.81922197, 0.8215103 ,\n",
      "       0.82379863, 0.82379863, 0.82837529, 0.82379863]), 'split6_test_score': array([0.81693364, 0.81235698, 0.81235698, 0.81464531, 0.81464531,\n",
      "       0.81464531, 0.81464531, 0.81006865, 0.81693364]), 'split7_test_score': array([0.81464531, 0.81922197, 0.81922197, 0.81693364, 0.81693364,\n",
      "       0.82379863, 0.81922197, 0.82608696, 0.83066362]), 'split8_test_score': array([0.81464531, 0.81922197, 0.81464531, 0.81693364, 0.81693364,\n",
      "       0.82379863, 0.81464531, 0.82379863, 0.83295195]), 'split9_test_score': array([0.81464531, 0.81693364, 0.81235698, 0.81693364, 0.81464531,\n",
      "       0.82379863, 0.81235698, 0.82379863, 0.82608696]), 'mean_test_score': array([0.81587411, 0.81884633, 0.81930295, 0.81907464, 0.82021776,\n",
      "       0.82068012, 0.81907411, 0.82113622, 0.82274014]), 'std_test_score': array([0.00106962, 0.00369922, 0.00634685, 0.00380839, 0.00644588,\n",
      "       0.00830644, 0.00613587, 0.00831423, 0.00994457]), 'rank_test_score': array([9, 8, 5, 6, 4, 3, 7, 2, 1])} {'learning_rate': 0.05, 'n_estimators': 500} 0.8227401439871267\n"
     ]
    }
   ],
   "source": [
    "# GBDT模型的网格搜索法\n",
    "# 选择不同的参数\n",
    "from sklearn.model_selection import GridSearchCV\n",
    "learning_rate_options = [0.01,0.03,0.05]\n",
    "# max_depth_options = [1,3,5,7,9]\n",
    "n_estimators_options = [100,300,500]\n",
    "# parameters = {'learning_rate':learning_rate_options,'max_depth':max_depth_options,'n_estimators':n_estimators_options}\n",
    "parameters = {'learning_rate': learning_rate_options, 'n_estimators':n_estimators_options}\n",
    "\n",
    "grid_gbdt = GridSearchCV(estimator = GradientBoostingClassifier(), param_grid = parameters, cv=10, scoring='accuracy')\n",
    "grid_gbdt.fit(X_train, y_train)\n",
    "\n",
    "# 结果输出\n",
    "# print(grid_gbdt)\n",
    "print(grid_gbdt.cv_results_,grid_gbdt.best_params_,grid_gbdt.best_score_)"
   ]
  },
  {
   "cell_type": "code",
   "execution_count": 60,
   "id": "2eda196e-a68b-414a-a620-b6a700243db7",
   "metadata": {},
   "outputs": [
    {
     "name": "stdout",
     "output_type": "stream",
     "text": [
      "is_overdue     0    1\n",
      "row_0                \n",
      "0           1189  217\n",
      "1             32   20\n",
      "模型在训练集上的准确率0.865050\n",
      "模型在测试集上的准确率0.829218\n"
     ]
    }
   ],
   "source": [
    "# 预测测试集\n",
    "grid_gbdt_pred = grid_gbdt.predict(X_test)\n",
    "print(pd.crosstab(grid_gbdt_pred, y_test))\n",
    "\n",
    "# 模型得分\n",
    "print('模型在训练集上的准确率%f' %grid_gbdt.score(X_train,y_train))\n",
    "print('模型在测试集上的准确率%f' %grid_gbdt.score(X_test,y_test))"
   ]
  },
  {
   "cell_type": "markdown",
   "id": "b6ed2bfb-cbdb-43e2-bef6-4eb06e0c6291",
   "metadata": {},
   "source": [
    "## 4.3 网格搜索的最优XGBOOST模型"
   ]
  },
  {
   "cell_type": "code",
   "execution_count": 36,
   "id": "45098cc5-d0b7-4787-a7cb-48d0e473885f",
   "metadata": {},
   "outputs": [
    {
     "name": "stdout",
     "output_type": "stream",
     "text": [
      "Fitting 5 folds for each of 54 candidates, totalling 270 fits\n",
      "Best parameters: {'colsample_bytree': 0.3, 'learning_rate': 0.01, 'max_depth': 10, 'n_estimators': 1000}\n"
     ]
    }
   ],
   "source": [
    "import pandas as pd\n",
    "import xgboost as xgb\n",
    "from sklearn.model_selection import GridSearchCV\n",
    "params = {'max_depth': [3, 6, 10],\n",
    "          'learning_rate': [0.01, 0.05, 0.1],\n",
    "         'n_estimators': [100, 500, 1000],\n",
    "         'colsample_bytree': [0.3, 0.7]\n",
    "        }\n",
    "xgbr = xgb.XGBClassifier(seed=123456)\n",
    "grid_xgboost = GridSearchCV(estimator=xgbr,\n",
    "                   param_grid=params,\n",
    "                   scoring='accuracy',\n",
    "                   verbose=1)\n",
    "grid_xgboost.fit(X_train, y_train)\n",
    "print(\"Best parameters:\", grid_xgboost.best_params_)"
   ]
  },
  {
   "cell_type": "code",
   "execution_count": 41,
   "id": "d8676339-0079-4b9b-b5a4-8699601daecd",
   "metadata": {},
   "outputs": [
    {
     "name": "stdout",
     "output_type": "stream",
     "text": [
      "is_overdue     0    1\n",
      "row_0                \n",
      "0           1208  200\n",
      "1             13   37\n",
      "模型在训练集上的准确率0.979414\n",
      "模型在测试集上的准确率0.853909\n"
     ]
    }
   ],
   "source": [
    "# 预测测试集\n",
    "grid_xgboost_pred = grid_xgboost.predict(X_test)\n",
    "print(pd.crosstab(grid_xgboost_pred, y_test))\n",
    "# 模型得分\n",
    "print('模型在训练集上的准确率%f' %grid_xgboost.score(X_train, y_train))\n",
    "print('模型在测试集上的准确率%f' %grid_xgboost.score(X_test,y_test))"
   ]
  },
  {
   "cell_type": "markdown",
   "id": "7365e769-3e55-46a3-b90b-1b2eab6ad55a",
   "metadata": {},
   "source": [
    "调整参数并继续绘制ROC曲线"
   ]
  },
  {
   "cell_type": "code",
   "execution_count": 46,
   "id": "ab84758e-ffad-45f4-9abb-0926ebd1e4cb",
   "metadata": {},
   "outputs": [
    {
     "data": {
      "image/png": "[encoded data removed]",
      "text/plain": [
       "<Figure size 640x480 with 1 Axes>"
      ]
     },
     "metadata": {},
     "output_type": "display_data"
    }
   ],
   "source": [
    "xgboost.set_params(\n",
    "    objective='reg:logistic',\n",
    "    n_estimators=1000,\n",
    "    colsample_bytree=0.3,\n",
    "    learning_rate= 0.01,\n",
    "    max_depth=10)\n",
    "xgboost.fit(X_train, y_train)\n",
    "fpr, tpr, _ = metrics.roc_curve(y_test, xgboost.predict_proba(X_test)[:, 1])\n",
    "plt.plot(fpr, tpr, linestyle='solid', color='red')\n",
    "plt.stackplot(fpr, tpr, color='steelblue')\n",
    "plt.plot([0, 1], [0, 1], linestyle='dashed', color='black')\n",
    "plt.text(0.6, 0.4, 'AUC=%.3f' % metrics.auc(fpr, tpr), fontdict=dict(size=18))\n",
    "plt.show()"
   ]
  },
  {
   "cell_type": "markdown",
   "id": "0d8ee22e-9bde-4ba5-a68f-71f36f2946c7",
   "metadata": {},
   "source": [
    "一般来说，AUC 值在 0.7 以上的模型就有一定的实用性，AUC 值在 0.8 以上的模型表现良好，AUC 值在 0.9 以上的模型表现非常好。\n",
    "调整参数后的模型的AUC=0.702>0.7表明调整后的模型有一定的实用性"
   ]
  },
  {
   "cell_type": "markdown",
   "id": "d947979c-58c2-40ef-b98f-d924ade1bfc8",
   "metadata": {},
   "source": [
    "# 五、模型的保存"
   ]
  },
  {
   "cell_type": "code",
   "execution_count": 48,
   "id": "05d5be1f-6897-493c-aa77-570dae53ac29",
   "metadata": {},
   "outputs": [],
   "source": [
    "xgboost.save_model('is_loan_model.json')"
   ]
  },
  {
   "cell_type": "code",
   "execution_count": 49,
   "id": "0d156731-d627-42d4-89fe-d1c7beb50cbe",
   "metadata": {},
   "outputs": [],
   "source": [
    "model = XGBClassifier()\n",
    "model.load_model('is_loan_model.json')"
   ]
  },
  {
   "cell_type": "code",
   "execution_count": null,
   "id": "4dc9d41e-d9bc-4e09-9ddb-f83c91ffab63",
   "metadata": {},
   "outputs": [],
   "source": [
    "# new_data 就是后面需要进行分类预测的新数据\n",
    "predictions = model.predict(new_data)"
   ]
  }
 ],
 "metadata": {
  "kernelspec": {
   "display_name": "Python 3 (ipykernel)",
   "language": "python",
   "name": "python3"
  },
  "language_info": {
   "codemirror_mode": {
    "name": "ipython",
    "version": 3
   },
   "file_extension": ".py",
   "mimetype": "text/x-python",
   "name": "python",
   "nbconvert_exporter": "python",
   "pygments_lexer": "ipython3",
   "version": "3.11.8"
  }
 },
 "nbformat": 4,
 "nbformat_minor": 5
}
