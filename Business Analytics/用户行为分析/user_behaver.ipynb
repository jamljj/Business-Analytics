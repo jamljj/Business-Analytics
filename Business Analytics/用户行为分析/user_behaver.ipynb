{
 "cells": [
  {
   "cell_type": "code",
   "execution_count": 1,
   "id": "df54d62b-8e18-4af8-818d-dc0bffdd4d8e",
   "metadata": {},
   "outputs": [
    {
     "name": "stdout",
     "output_type": "stream",
     "text": [
      "D:\\大数据管理\\数据挖掘实战\\用户数据分析\n"
     ]
    }
   ],
   "source": [
    "%cd \"D:\\大数据管理\\数据挖掘实战\\用户数据分析\""
   ]
  },
  {
   "cell_type": "code",
   "execution_count": 2,
   "id": "cf7ac837-41dd-4a9d-8ee7-3df4516b0d03",
   "metadata": {},
   "outputs": [
    {
     "data": {
      "text/plain": [
       "'D:\\\\大数据管理\\\\数据挖掘实战\\\\用户数据分析'"
      ]
     },
     "execution_count": 2,
     "metadata": {},
     "output_type": "execute_result"
    }
   ],
   "source": [
    "%pwd"
   ]
  },
  {
   "cell_type": "code",
   "execution_count": 3,
   "id": "86b44b4a-f471-4e1b-b221-e496e5f57cc8",
   "metadata": {},
   "outputs": [
    {
     "name": "stderr",
     "output_type": "stream",
     "text": [
      "UsageError: unrecognized arguments: # 允许在Jupyter Notebook中直接显示Matplotlib图形\n"
     ]
    }
   ],
   "source": [
    "%matplotlib inline  # 允许在Jupyter Notebook中直接显示Matplotlib图形"
   ]
  },
  {
   "cell_type": "code",
   "execution_count": 4,
   "id": "77be1562-ced5-4f28-b1cf-655e065a8f3c",
   "metadata": {},
   "outputs": [],
   "source": [
    "import pandas as pd\n",
    "import numpy as np\n",
    "import matplotlib.pyplot as plt\n",
    "import seaborn as sns"
   ]
  },
  {
   "cell_type": "code",
   "execution_count": 5,
   "id": "11893bad-9c9f-4771-b9ea-8b109add217c",
   "metadata": {},
   "outputs": [],
   "source": [
    "plt.style.use('ggplot')  # R语言绘图库风格"
   ]
  },
  {
   "cell_type": "markdown",
   "id": "0aeb073d-9dbb-4902-be73-035b50f5c960",
   "metadata": {},
   "source": [
    "# 1. 数据导入"
   ]
  },
  {
   "cell_type": "markdown",
   "id": "71faede7-872b-448a-814f-449b22a5eb79",
   "metadata": {},
   "source": [
    "csv.reader 允许逐行读取文件，这样可以方便地获取第一行数据，也就是列名。在读取大型文件时，这种方法可以避免一次性加载整个文件到内存中。\n",
    "pd.read_csv 会一次性加载整个文件到内存中，如果文件非常大，可能会导致内存问题,同时它的参数delimiter=' ' 仅能处理单个空格作为分隔符，若文件中存在多个连续空格，就会把它们当作数据内容。\n",
    "pd.read_table ： sep='\\s+' 更灵活，能处理包含多个连续空格、制表符等多种空白字符作为分隔符的情况。"
   ]
  },
  {
   "cell_type": "code",
   "execution_count": 13,
   "id": "864a1718-8c64-48b0-a187-fa9ea1f3f8b5",
   "metadata": {},
   "outputs": [
    {
     "name": "stdout",
     "output_type": "stream",
     "text": [
      "数据集的列名： ['customer_id', 'date', 'number_of_cds', 'dollar_value']\n"
     ]
    }
   ],
   "source": [
    "# 先采用下面的方法是因为在读取大型文件时，使用csv.read可以避免一次性加载整个文件到内存中。\n",
    "import csv\n",
    "with open('CDNOW_master.txt', 'r') as file:\n",
    "    reader = csv.reader(file, delimiter=' ')\n",
    "    # 读取第一行\n",
    "    columns = next(reader)\n",
    "    # 去除空字符串\n",
    "    columns = [col for col in columns if col]\n",
    "    print('数据集的列名：', columns)\n",
    "\n",
    "df = pd.read_table('CDNOW_master.txt',sep=r'\\s+') # sep='\\s+' 匹配任意个空格"
   ]
  },
  {
   "cell_type": "code",
   "execution_count": 7,
   "id": "22129f14-e4e9-4ef5-a7d3-edf16e57adbe",
   "metadata": {},
   "outputs": [],
   "source": [
    "plt.rcParams['font.sans-serif']= 'SimHei'"
   ]
  },
  {
   "cell_type": "code",
   "execution_count": 8,
   "id": "5835d31d-2e5a-4be8-b140-80903d5f18a5",
   "metadata": {
    "scrolled": true
   },
   "outputs": [
    {
     "data": {
      "text/html": [
       "<div>\n",
       "<style scoped>\n",
       "    .dataframe tbody tr th:only-of-type {\n",
       "        vertical-align: middle;\n",
       "    }\n",
       "\n",
       "    .dataframe tbody tr th {\n",
       "        vertical-align: top;\n",
       "    }\n",
       "\n",
       "    .dataframe thead th {\n",
       "        text-align: right;\n",
       "    }\n",
       "</style>\n",
       "<table border=\"1\" class=\"dataframe\">\n",
       "  <thead>\n",
       "    <tr style=\"text-align: right;\">\n",
       "      <th></th>\n",
       "      <th>customer_id</th>\n",
       "      <th>date</th>\n",
       "      <th>number_of_cds</th>\n",
       "      <th>dollar_value</th>\n",
       "    </tr>\n",
       "  </thead>\n",
       "  <tbody>\n",
       "    <tr>\n",
       "      <th>0</th>\n",
       "      <td>1</td>\n",
       "      <td>19970101</td>\n",
       "      <td>1</td>\n",
       "      <td>11.77</td>\n",
       "    </tr>\n",
       "    <tr>\n",
       "      <th>1</th>\n",
       "      <td>2</td>\n",
       "      <td>19970112</td>\n",
       "      <td>1</td>\n",
       "      <td>12.00</td>\n",
       "    </tr>\n",
       "    <tr>\n",
       "      <th>2</th>\n",
       "      <td>2</td>\n",
       "      <td>19970112</td>\n",
       "      <td>5</td>\n",
       "      <td>77.00</td>\n",
       "    </tr>\n",
       "    <tr>\n",
       "      <th>3</th>\n",
       "      <td>3</td>\n",
       "      <td>19970102</td>\n",
       "      <td>2</td>\n",
       "      <td>20.76</td>\n",
       "    </tr>\n",
       "    <tr>\n",
       "      <th>4</th>\n",
       "      <td>3</td>\n",
       "      <td>19970330</td>\n",
       "      <td>2</td>\n",
       "      <td>20.76</td>\n",
       "    </tr>\n",
       "  </tbody>\n",
       "</table>\n",
       "</div>"
      ],
      "text/plain": [
       "   customer_id      date  number_of_cds  dollar_value\n",
       "0            1  19970101              1         11.77\n",
       "1            2  19970112              1         12.00\n",
       "2            2  19970112              5         77.00\n",
       "3            3  19970102              2         20.76\n",
       "4            3  19970330              2         20.76"
      ]
     },
     "execution_count": 8,
     "metadata": {},
     "output_type": "execute_result"
    }
   ],
   "source": [
    "df.head()"
   ]
  },
  {
   "cell_type": "markdown",
   "id": "b9953589-414a-4ee5-aaa1-2d0a19c1d1b3",
   "metadata": {},
   "source": [
    "# 2. 数据清洗"
   ]
  },
  {
   "cell_type": "markdown",
   "id": "a2aad03e-3e27-4f31-ab79-6c7a44c72ced",
   "metadata": {},
   "source": [
    "## 2.1 数据的处理（缺失值、重复值、异常值和日期列格式的转化）"
   ]
  },
  {
   "cell_type": "code",
   "execution_count": 14,
   "id": "cb375fbb-4000-44d7-af53-b136292db753",
   "metadata": {},
   "outputs": [],
   "source": [
    "# 缺失值处理\n",
    "df = df.dropna()\n",
    "# 重复值处理\n",
    "df = df.drop_duplicates()\n",
    "# 异常值处理（这里简单假设数值列的异常值为超出均值3倍标准差的值）\n",
    "for col in ['dollar_value', 'number_of_cds']:\n",
    "    mean = df[col].mean()\n",
    "    std = df[col].std()\n",
    "    df = df[(df[col] <= mean + 3 * std) & (df[col] >= mean - 3 * std)]"
   ]
  },
  {
   "cell_type": "code",
   "execution_count": 10,
   "id": "83cdf7d2-1649-4256-b364-cfed8226d129",
   "metadata": {},
   "outputs": [],
   "source": [
    "# 实际的数据文件可能会因为各种原因（例如数据收集变更、数据预处理差异等）缺失某些列。\n",
    "# 添加 if 语句可以让代码在不同的数据格式下都能正常运行，增强了代码的灵活性与健壮性。\n",
    "if 'date' in df.columns:\n",
    "    df['date'] = pd.to_datetime(df['date'])# 如果在将date列转换为日期格式时出现问题，可能会导致所有日期被解析为相同的值。"
   ]
  },
  {
   "cell_type": "code",
   "execution_count": 15,
   "id": "58e01ca7-5f88-4e15-a18b-33c1ad1bcd92",
   "metadata": {},
   "outputs": [],
   "source": [
    "df['date'] = pd.to_datetime(df['date'],format='%Y%m%d')"
   ]
  },
  {
   "cell_type": "code",
   "execution_count": 16,
   "id": "62a235bd-3991-436f-8838-80dabb08d142",
   "metadata": {},
   "outputs": [
    {
     "data": {
      "text/plain": [
       "0   1997-01-01\n",
       "1   1997-01-12\n",
       "2   1997-01-12\n",
       "3   1997-01-02\n",
       "4   1997-03-30\n",
       "Name: date, dtype: datetime64[ns]"
      ]
     },
     "execution_count": 16,
     "metadata": {},
     "output_type": "execute_result"
    }
   ],
   "source": [
    "df['date'].head()"
   ]
  },
  {
   "cell_type": "markdown",
   "id": "8d4adde4-e260-4856-9593-6300b53e9e83",
   "metadata": {},
   "source": [
    "## 2.2 数据的探索性分析"
   ]
  },
  {
   "cell_type": "code",
   "execution_count": 17,
   "id": "e099ada4-43db-40e2-a7cf-c1ec6db7f770",
   "metadata": {},
   "outputs": [
    {
     "name": "stdout",
     "output_type": "stream",
     "text": [
      "不同列的唯一值数量：\n",
      "customer_id      23303\n",
      "date               546\n",
      "number_of_cds        7\n",
      "dollar_value      6375\n",
      "dtype: int64\n"
     ]
    }
   ],
   "source": [
    "# 统计不同列的唯一值数量\n",
    "unique_counts = df.nunique()\n",
    "print('不同列的唯一值数量：')\n",
    "print(unique_counts)"
   ]
  },
  {
   "cell_type": "markdown",
   "id": "c9d9b013-b469-4dd2-92b1-40a66ec1f29c",
   "metadata": {},
   "source": [
    "# 3 用户购买行为分析"
   ]
  },
  {
   "cell_type": "code",
   "execution_count": 18,
   "id": "44321090-db32-49a5-bedc-b21268ebb0bf",
   "metadata": {},
   "outputs": [
    {
     "data": {
      "image/png": "[encoded data removed]",
      "text/plain": [
       "<Figure size 1200x500 with 2 Axes>"
      ]
     },
     "metadata": {},
     "output_type": "display_data"
    }
   ],
   "source": [
    "# 分析amount_product和num_product的分布情况\n",
    "fig, axes = plt.subplots(1, 2, figsize=(12, 5)) # 建立一个1行2列的子图布局\n",
    "axes[0].hist(df['dollar_value'], bins=20)  # 将数据分为20个区间\n",
    "axes[0].set_title('dollar_value分布')\n",
    "axes[1].hist(df['number_of_cds'], bins=20)\n",
    "axes[1].set_title('number_of_cds分布')\n",
    "plt.show()\n"
   ]
  },
  {
   "cell_type": "code",
   "execution_count": 19,
   "id": "8834d04c-cf22-4e30-941e-01cc0141d0d4",
   "metadata": {},
   "outputs": [
    {
     "name": "stdout",
     "output_type": "stream",
     "text": [
      "按天统计的购买次数和购买金额总和：\n",
      "            购买次数   购买金额总和\n",
      "date                     \n",
      "1997-01-01   205  6133.80\n",
      "1997-01-02   243  7393.05\n",
      "1997-01-03   230  6826.77\n",
      "1997-01-04   171  5644.63\n",
      "1997-01-05   245  7641.90\n",
      "...          ...      ...\n",
      "1998-06-26    46  1632.14\n",
      "1998-06-27    68  2354.84\n",
      "1998-06-28    49  1223.97\n",
      "1998-06-29    61  1989.37\n",
      "1998-06-30    55  1881.18\n",
      "\n",
      "[546 rows x 2 columns]\n"
     ]
    }
   ],
   "source": [
    "#  计算不同时间段（按天）的购买次数和购买金额总和\n",
    "if 'date' in df.columns:\n",
    "    daily_purchase = df.groupby(df['date'].dt.date).agg({\n",
    "        'customer_id': 'count',\n",
    "        'dollar_value': 'sum'\n",
    "    })\n",
    "    daily_purchase.columns = ['购买次数', '购买金额总和']\n",
    "    print('按天统计的购买次数和购买金额总和：')\n",
    "    print(daily_purchase)"
   ]
  },
  {
   "cell_type": "code",
   "execution_count": 20,
   "id": "e09313a5-3113-4b68-b1d8-65c4cfddb834",
   "metadata": {},
   "outputs": [],
   "source": [
    "# 计算每个用户的总消费金额和总购买数量\n",
    "user_value = df.groupby('customer_id').agg({\n",
    "    'dollar_value': 'sum',\n",
    "    'number_of_cds': 'sum'\n",
    "})\n",
    "user_value.columns = ['总消费金额', '总购买数量']"
   ]
  },
  {
   "cell_type": "code",
   "execution_count": 21,
   "id": "5091a5c6-fd2b-482c-aaa1-40b29dd919d7",
   "metadata": {},
   "outputs": [
    {
     "name": "stdout",
     "output_type": "stream",
     "text": [
      "低价值用户数量： 5826\n",
      "中价值用户数量： 11651\n",
      "高价值用户数量： 5826\n"
     ]
    }
   ],
   "source": [
    "# 对用户进行分层\n",
    "# 假设按照总消费金额的高低分为高、中、低价值用户\n",
    "quantiles = user_value['总消费金额'].quantile([0.25, 0.75]) # 计算分位数\n",
    "low_value = user_value[user_value['总消费金额'] <= quantiles.loc[0.25]]\n",
    "medium_value = user_value[(user_value['总消费金额'] > quantiles.loc[0.25]) & (user_value['总消费金额'] <= quantiles.loc[0.75])]\n",
    "high_value = user_value[user_value['总消费金额'] > quantiles.loc[0.75]]\n",
    "\n",
    "print('低价值用户数量：', len(low_value))\n",
    "print('中价值用户数量：', len(medium_value))\n",
    "print('高价值用户数量：', len(high_value))"
   ]
  },
  {
   "cell_type": "markdown",
   "id": "bb2c44ce-dd36-40ed-b22c-e3e746e7e2b8",
   "metadata": {},
   "source": [
    "# 4 客单价现状分析"
   ]
  },
  {
   "cell_type": "code",
   "execution_count": 22,
   "id": "aff53e68-ee26-4a83-b811-64ece6cccfac",
   "metadata": {},
   "outputs": [
    {
     "data": {
      "image/png": "[encoded data removed]",
      "text/plain": [
       "<Figure size 640x480 with 1 Axes>"
      ]
     },
     "metadata": {},
     "output_type": "display_data"
    },
    {
     "name": "stdout",
     "output_type": "stream",
     "text": [
      "平均客单价： 15.327561809078805\n",
      "客单价中位数： 13.99\n",
      "客单价标准差： 7.473702225093378\n"
     ]
    }
   ],
   "source": [
    "# 客单价总体分布\n",
    "# 计算客单价\n",
    "if 'dollar_value' in df.columns and 'number_of_cds' in df.columns:\n",
    "    df['客单价'] = df['dollar_value'] / df['number_of_cds']\n",
    "    plt.hist(df['客单价'], bins=20)\n",
    "    plt.title('客单价分布')\n",
    "    plt.show()\n",
    "\n",
    "    # 计算平均客单价、中位数、标准差等统计量\n",
    "    average_price = df['客单价'].mean()\n",
    "    median_price = df['客单价'].median()\n",
    "    std_price = df['客单价'].std()\n",
    "    print('平均客单价：', average_price)\n",
    "    print('客单价中位数：', median_price)\n",
    "    print('客单价标准差：', std_price)"
   ]
  },
  {
   "cell_type": "code",
   "execution_count": 23,
   "id": "25ffa6ea-7854-4d3e-9097-0cf15aeb8d74",
   "metadata": {},
   "outputs": [
    {
     "data": {
      "image/png": "[encoded data removed]",
      "text/plain": [
       "<Figure size 640x480 with 1 Axes>"
      ]
     },
     "metadata": {},
     "output_type": "display_data"
    }
   ],
   "source": [
    "# 客单价的时间趋势\n",
    "if 'date' in df.columns and '客单价' in df.columns:\n",
    "    daily_avg_price = df.groupby(df['date'].dt.date)['客单价'].mean()\n",
    "    plt.plot(daily_avg_price)\n",
    "    plt.title('客单价按天的时间趋势')\n",
    "    plt.show()"
   ]
  },
  {
   "cell_type": "code",
   "execution_count": 24,
   "id": "d4467405-a1b1-4227-8a59-c9ada7a21fa9",
   "metadata": {},
   "outputs": [
    {
     "name": "stdout",
     "output_type": "stream",
     "text": [
      "不同用户群体的客单价：\n",
      "用户群体\n",
      "低频低消费    14.698044\n",
      "低频高消费    20.225615\n",
      "高频低消费    13.132288\n",
      "高频高消费    15.412415\n",
      "Name: 客单价, dtype: float64\n"
     ]
    }
   ],
   "source": [
    "# 不同用户群体的客单价差异\n",
    "# 这里简单按照购买频率和总消费金额进行分组\n",
    "if 'customer_id' in df.columns and 'dollar_value' in df.columns:\n",
    "    purchase_frequency = df.groupby('customer_id').size()  # 是在分组操作后使用的方法，它会返回每个分组中的元素数量。\n",
    "    total_consumption = df.groupby('customer_id')['dollar_value'].sum()\n",
    "    frequency_quantiles = purchase_frequency.quantile(0.5)\n",
    "    consumption_quantiles = total_consumption.quantile(0.5)\n",
    "    df = df.merge(purchase_frequency.rename('购买频率'), on='customer_id')\n",
    "    df = df.merge(total_consumption.rename('总消费金额'), on='customer_id')\n",
    "    df['购买频率等级'] = np.where(df['购买频率'] > frequency_quantiles, '高频', '低频')\n",
    "    df['总消费等级'] = np.where(df['总消费金额'] > consumption_quantiles, '高消费', '低消费')\n",
    "    df['用户群体'] = df['购买频率等级'] + df['总消费等级']\n",
    "    group_price = df.groupby('用户群体')['客单价'].mean()\n",
    "    print('不同用户群体的客单价：')\n",
    "    print(group_price)"
   ]
  },
  {
   "cell_type": "code",
   "execution_count": 25,
   "id": "a6fdfbb2-3cca-4fbc-92ee-4541aa6b3821",
   "metadata": {},
   "outputs": [
    {
     "name": "stdout",
     "output_type": "stream",
     "text": [
      "工作日和周末的客单价：\n",
      "是否周末\n",
      "False    15.315945\n",
      "True     15.357193\n",
      "Name: 客单价, dtype: float64\n"
     ]
    }
   ],
   "source": [
    "# 时间因素与客单价的关系\n",
    "# 假设按照工作日和周末进行分析\n",
    "if 'date' in df.columns and '客单价' in df.columns:\n",
    "    df['是否周末'] = df['date'].dt.weekday >= 5\n",
    "    weekend_price = df.groupby('是否周末')['客单价'].mean()\n",
    "    print('工作日和周末的客单价：')\n",
    "    print(weekend_price)"
   ]
  },
  {
   "cell_type": "code",
   "execution_count": 26,
   "id": "f4ed5a8e-8321-4cab-b830-007b3de4b5e8",
   "metadata": {},
   "outputs": [
    {
     "data": {
      "image/png": "[encoded data removed]",
      "text/plain": [
       "<Figure size 640x480 with 1 Axes>"
      ]
     },
     "metadata": {},
     "output_type": "display_data"
    }
   ],
   "source": [
    "# 购买数量与客单价的关系\n",
    "if 'number_of_cds' in df.columns and '客单价' in df.columns:\n",
    "    plt.scatter(df['number_of_cds'], df['客单价'])\n",
    "    plt.xlabel('购买数量')\n",
    "    plt.ylabel('客单价')\n",
    "    plt.title('购买数量与客单价的关系')\n",
    "    plt.show()"
   ]
  },
  {
   "cell_type": "code",
   "execution_count": 39,
   "id": "da060f37-16e4-4123-a6fd-e628900cc4a0",
   "metadata": {},
   "outputs": [],
   "source": [
    "# 模型所需要到的所有库\n",
    "from sklearn.cluster import KMeans\n",
    "from sklearn.linear_model import LogisticRegression\n",
    "from sklearn.model_selection import train_test_split\n",
    "from sklearn.metrics import classification_report, accuracy_score\n",
    "from sklearn.preprocessing import StandardScaler\n",
    "from imblearn.over_sampling import SMOTE\n",
    "from sklearn.model_selection import GridSearchCV\n",
    "from sklearn.ensemble import GradientBoostingClassifier\n",
    "from sklearn.svm import SVC\n",
    "from sklearn.metrics import roc_auc_score\n",
    "import lightgbm as lgb"
   ]
  },
  {
   "cell_type": "code",
   "execution_count": 38,
   "id": "9d3d06e2-e834-4fd4-88af-f04a2e53329a",
   "metadata": {
    "collapsed": true,
    "jupyter": {
     "outputs_hidden": true
    }
   },
   "outputs": [
    {
     "name": "stdout",
     "output_type": "stream",
     "text": [
      "Collecting lightgbmNote: you may need to restart the kernel to use updated packages.\n",
      "\n",
      "  Downloading lightgbm-4.6.0-py3-none-win_amd64.whl.metadata (17 kB)\n",
      "Requirement already satisfied: numpy>=1.17.0 in c:\\users\\lei\\appdata\\local\\programs\\python\\python312\\lib\\site-packages (from lightgbm) (2.2.1)\n",
      "Requirement already satisfied: scipy in c:\\users\\lei\\appdata\\local\\programs\\python\\python312\\lib\\site-packages (from lightgbm) (1.15.2)\n",
      "Downloading lightgbm-4.6.0-py3-none-win_amd64.whl (1.5 MB)\n",
      "   ---------------------------------------- 0.0/1.5 MB ? eta -:--:--\n",
      "   ---------------------------------------- 0.0/1.5 MB ? eta -:--:--\n",
      "   ------------------------------------ --- 1.3/1.5 MB 6.1 MB/s eta 0:00:01\n",
      "   ---------------------------------------- 1.5/1.5 MB 5.9 MB/s eta 0:00:00\n",
      "Installing collected packages: lightgbm\n",
      "Successfully installed lightgbm-4.6.0\n"
     ]
    }
   ],
   "source": [
    "pip install lightgbm"
   ]
  },
  {
   "cell_type": "markdown",
   "id": "ef5bbe20-5ba5-48fc-8cc6-1e402fb72c53",
   "metadata": {},
   "source": [
    "# 5 客户聚类分析"
   ]
  },
  {
   "cell_type": "markdown",
   "id": "04661723-ea69-4c46-bf46-e394e3ce989c",
   "metadata": {},
   "source": [
    "### 5.1 客户聚类分析模型构建（分析前的对分析目标的解构及安排）\n",
    "### K-Means 聚类分析：\n",
    "使用 总消费金额、总购买数量和购买时间跨度作为特征。\n",
    "聚类结果通过散点图可视化，并输出每个群体的平均特征值。\n",
    "### 逻辑回归模型预测：\n",
    "构造模拟的营销策略响应数据。\n",
    "使用逻辑回归模型预测客户对营销策略的响应概率。\n",
    "输出模型评估结果和不同客户群体的预测响应率。"
   ]
  },
  {
   "cell_type": "code",
   "execution_count": 67,
   "id": "f17206e3-027c-43f3-a4d9-015975bf1eee",
   "metadata": {
    "scrolled": true
   },
   "outputs": [
    {
     "data": {
      "image/png": "[encoded data removed]",
      "text/plain": [
       "<Figure size 800x600 with 1 Axes>"
      ]
     },
     "metadata": {},
     "output_type": "display_data"
    },
    {
     "name": "stdout",
     "output_type": "stream",
     "text": [
      "聚类结果：\n",
      "     customer_id        总消费金额       总购买数量      购买时间跨度\n",
      "群体                                                   \n",
      "0   11578.544670   205.489544   13.885193  383.007932\n",
      "1   11882.534998    42.755123    2.843663   21.652236\n",
      "2   11275.195266  1954.990828  130.130178  447.017751\n"
     ]
    }
   ],
   "source": [
    "if 'customer_id' in df.columns and 'dollar_value' in df.columns and 'number_of_cds' in df.columns:\n",
    "    clustering_data = df.groupby('customer_id').agg({\n",
    "        'dollar_value': 'sum',\n",
    "        'number_of_cds': 'sum',\n",
    "        'date': lambda x: (x.max() - x.min()).days  # 计算购买时间跨度\n",
    "    }).reset_index()\n",
    "    clustering_data.columns = ['customer_id', '总消费金额', '总购买数量', '购买时间跨度']\n",
    "\n",
    "    # K-Means 聚类\n",
    "    kmeans = KMeans(n_clusters=3, random_state=42)\n",
    "    clustering_data['群体'] = kmeans.fit_predict(clustering_data[['总消费金额', '总购买数量', '购买时间跨度']])\n",
    "\n",
    "    #可视化聚类结果\n",
    "    plt.figure(figsize=(8, 6))\n",
    "    sns.scatterplot(\n",
    "        x='总消费金额', y='总购买数量', hue='群体', data=clustering_data, palette='viridis'\n",
    "    )\n",
    "    plt.title('客户聚类结果')\n",
    "    plt.show()\n",
    "\n",
    "    print('聚类结果：')\n",
    "    print(clustering_data.groupby('群体').mean())"
   ]
  },
  {
   "cell_type": "markdown",
   "id": "7b253dc7-f505-4d18-aa09-e8f3f1e43eeb",
   "metadata": {},
   "source": [
    "## 5.2 营销策略响应预测"
   ]
  },
  {
   "cell_type": "code",
   "execution_count": 68,
   "id": "55adac0e-0fca-4cda-b57a-cc20b59f46c3",
   "metadata": {},
   "outputs": [
    {
     "name": "stdout",
     "output_type": "stream",
     "text": [
      "逻辑回归模型评估：\n",
      "              precision    recall  f1-score   support\n",
      "\n",
      "           0       0.50      0.18      0.27      3546\n",
      "           1       0.50      0.82      0.62      3525\n",
      "\n",
      "    accuracy                           0.50      7071\n",
      "   macro avg       0.50      0.50      0.44      7071\n",
      "weighted avg       0.50      0.50      0.44      7071\n",
      "\n",
      "准确率： 0.49964644321878093\n",
      "不同客户群体的预测响应率：\n",
      "群体\n",
      "0    0.551350\n",
      "1    0.939069\n",
      "2    0.171598\n",
      "Name: 预测响应, dtype: float64\n"
     ]
    }
   ],
   "source": [
    "# 构造响应数据（假设已有营销策略响应数据）\n",
    "# 在实际业务场景中，企业开展营销策略后，希望了解客户对这些策略的反应，例如客户是否会因为营销活动而增加购买行为、是否会注册会员等。\n",
    "# 响应数据就是用来衡量客户对营销策略的反应情况的，它通常是一个二元变量（如 0 表示未响应，1 表示响应）。\n",
    "# 在我的代码中，由于没有真实的营销策略响应数据，所以需要构造模拟的响应数据。\n",
    "# 这是为了模拟真实的业务场景，让模型能够学习到客户特征与响应之间的关系，从而对未来的客户响应情况进行预测。\n",
    "# 通过预测客户对营销策略的响应，企业可以有针对性地调整营销策略，提高营销效果和投资回报率。\n",
    "if '群体' in clustering_data.columns:\n",
    "    # 创建模拟响应数据\n",
    "    np.random.seed(42)\n",
    "    clustering_data['响应'] = np.random.choice([0, 1], size=len(clustering_data))  # 0: 未响应, 1: 响应\n",
    "\n",
    "    # 数据划分\n",
    "    X = clustering_data[['总消费金额', '总购买数量', '购买时间跨度', '群体']]\n",
    "    y = clustering_data['响应']\n",
    "    X_train, X_test, y_train, y_test = train_test_split(X, y, test_size=0.3, random_state=42)\n",
    "\n",
    "    # 逻辑回归模型\n",
    "    model = LogisticRegression()\n",
    "    model.fit(X_train, y_train)\n",
    "\n",
    "    # 模型评估\n",
    "    y_pred = model.predict(X_test)\n",
    "    print('逻辑回归模型评估：')\n",
    "    print(classification_report(y_test, y_pred))\n",
    "    print('准确率：', accuracy_score(y_test, y_pred))\n",
    "\n",
    "    # 业务应用建议\n",
    "    clustering_data['预测响应'] = model.predict(X)\n",
    "    print('不同客户群体的预测响应率：')\n",
    "    print(clustering_data.groupby('群体')['预测响应'].mean())"
   ]
  },
  {
   "cell_type": "markdown",
   "id": "73929e9b-73ae-4edf-b864-512e2bd26ea0",
   "metadata": {},
   "source": [
    "模型输出结果解读如下：\n",
    "1. 混淆矩阵相关指标\n",
    "在机器学习分类问题中，对于二分类任务（这里是客户是否响应营销策略，即 0 代表未响应，1 代表响应），有以下关键指标：  \n",
    "Precision（精确率）：精确率是指预测为正例的样本中，实际为正例的比例。公式为：Precision = \\frac{TP}{TP + FP}，其中 TP 是真正例（预测为正例且实际为正例），FP 是假正例（预测为正例但实际为负例）。  \n",
    "Recall（召回率）：召回率是指实际为正例的样本中，被预测为正例的比例。公式为：Recall = \\frac{TP}{TP + FN}，其中 FN 是假负例（预测为负例但实际为正例）。  \n",
    "F1 - score：F1 - score 是精确率和召回率的调和平均数，用于综合衡量模型的性能。公式为：F1 - score = 2\\times\\frac{Precision\\times Recall}{Precision + Recall}。  \n",
    "Support：支持度，表示该类别在测试集中的样本数量。  \n",
    "3. 输出结果分析\n",
    "类别 0（未响应）：  \n",
    "精确率为 0.50，意味着在模型预测为未响应的样本中，有 50% 实际上是未响应的。  \n",
    "召回率为 0.18，说明在实际未响应的样本中，只有 18% 被模型正确预测为未响应。  \n",
    "F1 - score 为 0.27，是精确率和召回率的综合指标，数值较低表明该类别在精确率和召回率的平衡上表现不佳。  \n",
    "支持度为 3546，即测试集中未响应的样本有 3546 个。  \n",
    "类别 1（响应）：  \n",
    "精确率为 0.50，即模型预测为响应的样本中，有 50% 实际上是响应的。  \n",
    "召回率为 0.82，说明在实际响应的样本中，有 82% 被模型正确预测为响应。  \n",
    "F1 - score 为 0.62，相对类别 0 较高，表明该类别在精确率和召回率的平衡上表现较好。  \n",
    "支持度为 3525，即测试集中响应的样本有 3525 个。  \n",
    "4. 整体评估指标分析\n",
    "Accuracy（准确率）：准确率是指模型预测正确的样本占总样本的比例。这里准确率为 0.50，意味着模型在整个测试集上的预测正确率为 50%。总样本数为 7071（3546 + 3525）。  \n",
    "Macro Avg（宏平均）：宏平均是对每个类别的指标（精确率、召回率、F1 - score）取平均值。这里宏平均精确率和召回率均为 0.50，F1 - score 为 0.44。  \n",
    "Weighted Avg（加权平均）：加权平均是根据每个类别的支持度对指标进行加权平均。这里加权平均精确率和召回率均为 0.50，F1 - score 为 0.44。  \n",
    "5. 不同客户群体的预测响应率\n",
    "这部分结果展示了不同客户群体的预测响应率。根据前面的聚类分析，客户被分为了 3 个群体（群体 0、群体 1、群体 2）。预测响应率表示每个群体中被预测为响应营销策略的客户比例。  \n",
    "群体 0 的预测响应率为 0.551350，即该群体中约有 55.14% 的客户被预测会响应营销策略。  \n",
    "群体 1 的预测响应率为 0.939069，即该群体中约有 93.91% 的客户被预测会响应营销策略。  \n",
    "群体 2 的预测响应率为 0.171598，即该群体中约有 17.16% 的客户被预测会响应营销策略。  \n",
    "企业可以根据这些预测响应率，针对不同群体制定不同的营销策略，例如对预测响应率高的群体加大营销投入，对预测响应率低的群体调整营销策略或放弃营销。  "
   ]
  },
  {
   "cell_type": "markdown",
   "id": "8ab3348c-8bc6-436f-858c-5ef4fa5fb1d7",
   "metadata": {},
   "source": [
    "#### 为什么营销策略响应模型，会使用混淆矩阵相关指标（精确率、召回率、F1 - score等）作为模型输出结果？  \n",
    "1. 单一指标的局限性  \n",
    "准确率是最常用的模型评估指标之一，它表示模型预测正确的样本占总样本的比例。然而，在某些情况下，尤其是当数据类别不平衡时，准确率可能会给出误导性的结果。例如，在营销策略响应预测中，如果大部分客户都不响应营销策略（即类别0的样本数量远多于类别1），那么一个简单地将所有样本都预测为不响应的模型可能会获得较高的准确率，但这显然不是一个有用的模型。因此，需要使用其他指标来更全面地评估模型。\n",
    "2. 混淆矩阵相关指标的作用  \n",
    "精确率（Precision）  \n",
    "精确率衡量的是模型预测为正例的样本中，实际为正例的比例。在营销策略响应预测中，精确率表示模型预测会响应营销策略的客户中，实际真正响应的客户比例。较高的精确率意味着模型在预测响应客户时的准确性较高，企业可以更有信心地针对这些预测为响应的客户制定营销策略，避免资源浪费在错误预测的客户上。  \n",
    "召回率（Recall）  \n",
    "召回率衡量的是实际为正例的样本中，被模型正确预测为正例的比例。在营销策略响应预测中，召回率表示实际会响应营销策略的客户中，被模型正确预测出来的比例。较高的召回率意味着模型能够尽可能多地识别出真正会响应的客户，帮助企业不遗漏潜在的响应客户，提高营销活动的覆盖范围。\n",
    "F1 - score  \n",
    "F1 - score是精确率和召回率的调和平均数，它综合考虑了精确率和召回率两个指标。在实际应用中，精确率和召回率往往是相互制约的，提高精确率可能会降低召回率，反之亦然。F1 - score可以帮助我们在精确率和召回率之间找到一个平衡，更全面地评估模型的性能。\n",
    "3. 不同业务场景的需求\n",
    "在营销策略响应预测中，不同的业务场景可能对精确率和召回率有不同的侧重。例如：  \n",
    "如果企业的营销资源有限，更关注每一次营销活动的效果，那么可能更看重精确率，希望模型能够准确地预测出会响应的客户，避免资源浪费。  \n",
    "如果企业希望尽可能地扩大营销活动的影响力，吸引更多的潜在客户，那么可能更看重召回率，希望模型能够识别出更多真正会响应的客户。  \n",
    "通过同时输出精确率、召回率和F1 - score等指标，企业可以根据自身的业务需求和资源情况，综合评估模型的性能，并做出更合理的决策。\n",
    "4. 全面评估模型  \n",
    "除了精确率、召回率和F1 - score，混淆矩阵还可以提供其他有用的信息，如真正例（TP）、假正例（FP）、真负例（TN）和假负例（FN）的数量。这些信息可以帮助我们更深入地了解模型的预测情况，找出模型容易出错的地方，从而进行针对性的改进。  \n",
    "综上所述，在营销策略响应预测中，使用混淆矩阵相关指标作为模型的输出结果，可以更全面、准确地评估模型的性能，为企业制定营销策略提供更有价值的参考。\n"
   ]
  },
  {
   "cell_type": "markdown",
   "id": "1a19ae35-b760-4da1-8054-0a32b8878e6e",
   "metadata": {},
   "source": [
    "## 5.3 模型优化"
   ]
  },
  {
   "cell_type": "code",
   "execution_count": 71,
   "id": "5add3469-8645-4ea1-9322-eba937a94aa3",
   "metadata": {},
   "outputs": [],
   "source": [
    "from sklearn.preprocessing import StandardScaler\n",
    "from imblearn.over_sampling import SMOTE\n",
    "from sklearn.model_selection import GridSearchCV"
   ]
  },
  {
   "cell_type": "code",
   "execution_count": 70,
   "id": "14058e0f-80ac-4a40-aec7-7412ea9676e3",
   "metadata": {
    "scrolled": true
   },
   "outputs": [
    {
     "name": "stdout",
     "output_type": "stream",
     "text": [
      "Collecting imblearn\n",
      "  Downloading imblearn-0.0-py2.py3-none-any.whl.metadata (355 bytes)\n",
      "Collecting imbalanced-learn (from imblearn)\n",
      "  Downloading imbalanced_learn-0.13.0-py3-none-any.whl.metadata (8.8 kB)\n",
      "Requirement already satisfied: numpy<3,>=1.24.3 in c:\\users\\lei\\appdata\\local\\programs\\python\\python312\\lib\\site-packages (from imbalanced-learn->imblearn) (2.2.1)\n",
      "Requirement already satisfied: scipy<2,>=1.10.1 in c:\\users\\lei\\appdata\\local\\programs\\python\\python312\\lib\\site-packages (from imbalanced-learn->imblearn) (1.15.2)\n",
      "Requirement already satisfied: scikit-learn<2,>=1.3.2 in c:\\users\\lei\\appdata\\local\\programs\\python\\python312\\lib\\site-packages (from imbalanced-learn->imblearn) (1.6.1)\n",
      "Collecting sklearn-compat<1,>=0.1 (from imbalanced-learn->imblearn)\n",
      "  Downloading sklearn_compat-0.1.3-py3-none-any.whl.metadata (18 kB)\n",
      "Requirement already satisfied: joblib<2,>=1.1.1 in c:\\users\\lei\\appdata\\local\\programs\\python\\python312\\lib\\site-packages (from imbalanced-learn->imblearn) (1.4.2)\n",
      "Requirement already satisfied: threadpoolctl<4,>=2.0.0 in c:\\users\\lei\\appdata\\local\\programs\\python\\python312\\lib\\site-packages (from imbalanced-learn->imblearn) (3.6.0)\n",
      "Downloading imblearn-0.0-py2.py3-none-any.whl (1.9 kB)\n",
      "Downloading imbalanced_learn-0.13.0-py3-none-any.whl (238 kB)\n",
      "Downloading sklearn_compat-0.1.3-py3-none-any.whl (18 kB)\n",
      "Installing collected packages: sklearn-compat, imbalanced-learn, imblearn\n",
      "Successfully installed imbalanced-learn-0.13.0 imblearn-0.0 sklearn-compat-0.1.3\n",
      "Note: you may need to restart the kernel to use updated packages.\n"
     ]
    }
   ],
   "source": [
    "pip install imblearn"
   ]
  },
  {
   "cell_type": "code",
   "execution_count": 72,
   "id": "74fe08d2-e652-4e06-9faa-1dcd97074117",
   "metadata": {
    "scrolled": true
   },
   "outputs": [
    {
     "name": "stdout",
     "output_type": "stream",
     "text": [
      "最佳参数： {'C': 0.01, 'penalty': 'l1', 'solver': 'liblinear'}\n",
      "最佳模型准确率： 0.5\n",
      "优化后逻辑回归模型评估：\n",
      "              precision    recall  f1-score   support\n",
      "\n",
      "           0       0.50      1.00      0.67      3546\n",
      "           1       0.00      0.00      0.00      3525\n",
      "\n",
      "    accuracy                           0.50      7071\n",
      "   macro avg       0.25      0.50      0.33      7071\n",
      "weighted avg       0.25      0.50      0.33      7071\n",
      "\n",
      "优化后准确率： 0.5014849384811201\n"
     ]
    },
    {
     "name": "stderr",
     "output_type": "stream",
     "text": [
      "C:\\Users\\lei\\AppData\\Local\\Programs\\Python\\Python312\\Lib\\site-packages\\sklearn\\utils\\validation.py:2732: UserWarning: X has feature names, but LogisticRegression was fitted without feature names\n",
      "  warnings.warn(\n",
      "C:\\Users\\lei\\AppData\\Local\\Programs\\Python\\Python312\\Lib\\site-packages\\sklearn\\metrics\\_classification.py:1565: UndefinedMetricWarning: Precision is ill-defined and being set to 0.0 in labels with no predicted samples. Use `zero_division` parameter to control this behavior.\n",
      "  _warn_prf(average, modifier, f\"{metric.capitalize()} is\", len(result))\n",
      "C:\\Users\\lei\\AppData\\Local\\Programs\\Python\\Python312\\Lib\\site-packages\\sklearn\\metrics\\_classification.py:1565: UndefinedMetricWarning: Precision is ill-defined and being set to 0.0 in labels with no predicted samples. Use `zero_division` parameter to control this behavior.\n",
      "  _warn_prf(average, modifier, f\"{metric.capitalize()} is\", len(result))\n",
      "C:\\Users\\lei\\AppData\\Local\\Programs\\Python\\Python312\\Lib\\site-packages\\sklearn\\metrics\\_classification.py:1565: UndefinedMetricWarning: Precision is ill-defined and being set to 0.0 in labels with no predicted samples. Use `zero_division` parameter to control this behavior.\n",
      "  _warn_prf(average, modifier, f\"{metric.capitalize()} is\", len(result))\n"
     ]
    }
   ],
   "source": [
    "    # 模型优化\n",
    "    # 特征工程：标准化特征\n",
    "    scaler = StandardScaler()\n",
    "    X_scaled = scaler.fit_transform(X)\n",
    "\n",
    "    # 数据平衡：使用 SMOTE 进行过采样,避免数据集中不同类别的样本数量差异很大。\n",
    "    smote = SMOTE(random_state=42)\n",
    "    X_resampled, y_resampled = smote.fit_resample(X_scaled, y)\n",
    "\n",
    "    # 超参数调优：使用 GridSearchCV 优化逻辑回归模型\n",
    "    param_grid = {\n",
    "        'C': [0.01, 0.1, 1, 10, 100],\n",
    "        'penalty': ['l1', 'l2'],  # 正则化类型\n",
    "        'solver': ['liblinear']  # 支持 l1 和 l2 的求解器\n",
    "    }\n",
    "    grid_search = GridSearchCV(LogisticRegression(random_state=42), param_grid, cv=5, scoring='accuracy')\n",
    "    grid_search.fit(X_resampled, y_resampled)\n",
    "\n",
    "    # 输出最佳参数和模型性能\n",
    "    best_model = grid_search.best_estimator_\n",
    "    print('最佳参数：', grid_search.best_params_)\n",
    "    print('最佳模型准确率：', grid_search.best_score_)\n",
    "\n",
    "    # 使用优化后的模型进行预测\n",
    "    y_pred_optimized = best_model.predict(X_test)\n",
    "    print('优化后逻辑回归模型评估：')\n",
    "    print(classification_report(y_test, y_pred_optimized))\n",
    "    print('优化后准确率：', accuracy_score(y_test, y_pred_optimized))"
   ]
  },
  {
   "cell_type": "markdown",
   "id": "54e655f3-cf49-458f-bff7-6b100a3df13b",
   "metadata": {},
   "source": [
    "# 6 流失预测模型的构建、训练及模型评估"
   ]
  },
  {
   "cell_type": "markdown",
   "id": "8804e073-620b-4db2-bd35-20c7efe8dcda",
   "metadata": {},
   "source": [
    "## 6.1 流失预测模型构建"
   ]
  },
  {
   "cell_type": "code",
   "execution_count": 43,
   "id": "9e969b15-173e-4bf8-9df9-aac07e8b7c8a",
   "metadata": {},
   "outputs": [],
   "source": [
    "    # 构造流失标签（假设流失定义为最近购买时间超过一定天数）\n",
    "#if 'customer_id' in df.columns and 'date' in df.columns:\n",
    "    customer_last_purchase = df.groupby('customer_id')['date'].max().reset_index()\n",
    "    customer_last_purchase['最近购买间隔天数'] = (df['date'].max() - customer_last_purchase['date']).dt.days\n",
    "    threshold_days = 90  # 假设超过90天未购买定义为流失\n",
    "    customer_last_purchase['是否流失'] = (customer_last_purchase['最近购买间隔天数'] > threshold_days).astype(int)\n",
    "\n",
    "    # 构造特征\n",
    "    customer_features = df.groupby('customer_id').agg({\n",
    "        'dollar_value': 'sum',\n",
    "        'number_of_cds': 'sum',\n",
    "        'date': lambda x: (x.max() - x.min()).days,  # 购买时间跨度\n",
    "    }).reset_index()\n",
    "    customer_features.columns = ['customer_id', '总消费金额', '总购买数量', '购买时间跨度']\n",
    "    customer_features['购买频率'] = df.groupby('customer_id').size().values  # 添加购买频率\n",
    "    customer_data = customer_features.merge(customer_last_purchase[['customer_id','是否流失']], on='customer_id',how='left') \n",
    "    # 数据划分\n",
    "    X = customer_data[['总消费金额', '总购买数量', '购买时间跨度', '购买频率']]\n",
    "    y = customer_data['是否流失']\n",
    "    X_train, X_test, y_train, y_test = train_test_split(X, y, test_size=0.3, random_state=42)\n",
    "    # 模型训练（使用 XGBoost 或 SVM）\n",
    "    # 使用梯度提升树\n",
    "    gb_model = GradientBoostingClassifier(random_state=42)\n",
    "    gb_model.fit(X_train, y_train)\n",
    "\n",
    "    # 使用支持向量机\n",
    "    svm_model = SVC(probability=True, random_state=42)\n",
    "    svm_model.fit(X_train, y_train)\n",
    "    # 模型训练（使用 LightGBM）\n",
    "    # 创建 LightGBM 数据集\n",
    "    lgb_train = lgb.Dataset(X_train, label=y_train)\n",
    "    lgb_test = lgb.Dataset(X_test, label=y_test, reference=lgb_train)\n",
    "    \n",
    "    # 设置 LightGBM 参数\n",
    "    params = {\n",
    "        'objective': 'binary',\n",
    "        'metric': 'auc',\n",
    "        'boosting_type': 'gbdt',\n",
    "        'learning_rate': 0.1,\n",
    "        'num_leaves': 31,\n",
    "        'max_depth': -1,\n",
    "        'feature_fraction': 0.8,\n",
    "        'bagging_fraction': 0.8,\n",
    "        'bagging_freq': 5,\n",
    "        'verbose': -1,\n",
    "        'random_state': 42\n",
    "    }\n",
    "    params['early_stopping_round'] = 50  # Move early stopping to params\n",
    "    # 训练 LightGBM 模型\n",
    "\n",
    "    lgb_model = lgb.train(\n",
    "        params,\n",
    "        lgb_train,\n",
    "        valid_sets=[lgb_train, lgb_test],\n",
    "        num_boost_round=1000\n",
    "    )"
   ]
  },
  {
   "cell_type": "markdown",
   "id": "ef102cd3-3e97-4410-b4e4-4cc537aaa9e6",
   "metadata": {},
   "source": [
    "## 6.2 模型评估"
   ]
  },
  {
   "cell_type": "code",
   "execution_count": 44,
   "id": "a32f25e6-51b4-4091-b7fc-976e08f73f7b",
   "metadata": {},
   "outputs": [
    {
     "name": "stdout",
     "output_type": "stream",
     "text": [
      "梯度提升树 AUC： 0.995172032120874\n",
      "梯度提升树评估：\n",
      "              precision    recall  f1-score   support\n",
      "\n",
      "           0       0.92      0.89      0.90       971\n",
      "           1       0.98      0.99      0.98      6020\n",
      "\n",
      "    accuracy                           0.97      6991\n",
      "   macro avg       0.95      0.94      0.94      6991\n",
      "weighted avg       0.97      0.97      0.97      6991\n",
      "\n",
      "支持向量机 AUC： 0.9819720396481347\n",
      "支持向量机评估：\n",
      "              precision    recall  f1-score   support\n",
      "\n",
      "           0       0.91      0.90      0.91       971\n",
      "           1       0.98      0.99      0.99      6020\n",
      "\n",
      "    accuracy                           0.97      6991\n",
      "   macro avg       0.95      0.94      0.95      6991\n",
      "weighted avg       0.97      0.97      0.97      6991\n",
      "\n",
      "LightGBM AUC： 0.9950890611795219\n",
      "LightGBM 评估：\n",
      "              precision    recall  f1-score   support\n",
      "\n",
      "           0       0.91      0.89      0.90       971\n",
      "           1       0.98      0.99      0.98      6020\n",
      "\n",
      "    accuracy                           0.97      6991\n",
      "   macro avg       0.95      0.94      0.94      6991\n",
      "weighted avg       0.97      0.97      0.97      6991\n",
      "\n",
      "高流失风险客户：\n",
      "       customer_id      流失概率\n",
      "0                1  0.994133\n",
      "1                2  0.990460\n",
      "3                4  0.987932\n",
      "4                5  0.951038\n",
      "5                6  0.994133\n",
      "...            ...       ...\n",
      "23298        23566  0.994133\n",
      "23299        23567  0.994133\n",
      "23300        23568  0.984834\n",
      "23301        23569  0.994133\n",
      "23302        23570  0.989300\n",
      "\n",
      "[19736 rows x 2 columns]\n",
      "挽回策略建议：\n",
      "为高流失风险客户发送专属优惠券或个性化推荐，以提高客户活跃度。\n"
     ]
    }
   ],
   "source": [
    "    # 模型评估\n",
    "    # 梯度提升树\n",
    "    gb_pred = gb_model.predict(X_test)\n",
    "    gb_auc = roc_auc_score(y_test, gb_model.predict_proba(X_test)[:, 1])\n",
    "    print('梯度提升树 AUC：', gb_auc)\n",
    "    print('梯度提升树评估：')\n",
    "    print(classification_report(y_test, gb_pred))\n",
    "    # 支持向量机\n",
    "    svm_pred = svm_model.predict(X_test)\n",
    "    svm_auc = roc_auc_score(y_test, svm_model.predict_proba(X_test)[:, 1])\n",
    "    print('支持向量机 AUC：', svm_auc)\n",
    "    print('支持向量机评估：')\n",
    "    print(classification_report(y_test, svm_pred))\n",
    "    #  LightGBM \n",
    "    lgb_pred = (lgb_model.predict(X_test) > 0.5).astype(int)\n",
    "    lgb_auc = roc_auc_score(y_test, lgb_model.predict(X_test))\n",
    "    print('LightGBM AUC：', lgb_auc)\n",
    "    print('LightGBM 评估：')\n",
    "    print(classification_report(y_test, lgb_pred))\n",
    "\n",
    "    # 业务应用建议\n",
    "    customer_data['流失概率'] = lgb_model.predict(X)  # 使用 LightGBM 的预测概率\n",
    "    #customer_data['流失概率'] = gb_model.predict_proba(X)[:, 1]  # 使用梯度提升树的预测概率\n",
    "    high_risk_customers = customer_data[customer_data['流失概率'] > 0.7]  # 假设流失概率大于70%为高风险\n",
    "    print('高流失风险客户：')\n",
    "    print(high_risk_customers[['customer_id', '流失概率']])\n",
    "\n",
    "    # 输出挽回策略建议\n",
    "    print('挽回策略建议：')\n",
    "    print('为高流失风险客户发送专属优惠券或个性化推荐，以提高客户活跃度。')"
   ]
  },
  {
   "cell_type": "code",
   "execution_count": null,
   "id": "c62cadf3-8492-49f8-82a3-7cc873085ecb",
   "metadata": {},
   "outputs": [],
   "source": []
  }
 ],
 "metadata": {
  "kernelspec": {
   "display_name": "Python 3 (ipykernel)",
   "language": "python",
   "name": "python3"
  },
  "language_info": {
   "codemirror_mode": {
    "name": "ipython",
    "version": 3
   },
   "file_extension": ".py",
   "mimetype": "text/x-python",
   "name": "python",
   "nbconvert_exporter": "python",
   "pygments_lexer": "ipython3",
   "version": "3.12.8"
  }
 },
 "nbformat": 4,
 "nbformat_minor": 5
}
